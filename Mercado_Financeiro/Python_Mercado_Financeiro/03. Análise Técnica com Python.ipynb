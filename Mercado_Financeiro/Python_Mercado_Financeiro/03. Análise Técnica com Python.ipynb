{
 "cells": [
  {
   "cell_type": "markdown",
   "metadata": {},
   "source": [
    "# 1. Instalando bibliotecas"
   ]
  },
  {
   "cell_type": "code",
   "execution_count": 1,
   "metadata": {},
   "outputs": [
    {
     "name": "stdout",
     "output_type": "stream",
     "text": [
      "Collecting ta\n",
      "  Downloading ta-0.10.2.tar.gz (25 kB)\n",
      "Requirement already satisfied: numpy in c:\\users\\akira\\anaconda3\\lib\\site-packages (from ta) (1.24.1)\n",
      "Requirement already satisfied: pandas in c:\\users\\akira\\anaconda3\\lib\\site-packages (from ta) (1.5.3)\n",
      "Requirement already satisfied: python-dateutil>=2.8.1 in c:\\users\\akira\\anaconda3\\lib\\site-packages (from pandas->ta) (2.8.1)\n",
      "Requirement already satisfied: pytz>=2020.1 in c:\\users\\akira\\anaconda3\\lib\\site-packages (from pandas->ta) (2022.7.1)\n",
      "Requirement already satisfied: six>=1.5 in c:\\users\\akira\\anaconda3\\lib\\site-packages (from python-dateutil>=2.8.1->pandas->ta) (1.15.0)\n",
      "Building wheels for collected packages: ta\n",
      "  Building wheel for ta (setup.py): started\n",
      "  Building wheel for ta (setup.py): finished with status 'done'\n",
      "  Created wheel for ta: filename=ta-0.10.2-py3-none-any.whl size=29111 sha256=37d61a521c2424a7609f9f23eb3d56f7703bbd98dd4113138bf0a86738fcc799\n",
      "  Stored in directory: c:\\users\\akira\\appdata\\local\\pip\\cache\\wheels\\1b\\81\\50\\db21d9643326c61dd6fee1dc2562d8351ee7753164c24ead38\n",
      "Successfully built ta\n",
      "Installing collected packages: ta\n",
      "Successfully installed ta-0.10.2\n",
      "Collecting investpy\n",
      "  Downloading investpy-1.0.8.tar.gz (4.4 MB)\n",
      "Collecting Unidecode>=1.1.1\n",
      "  Downloading Unidecode-1.3.6-py3-none-any.whl (235 kB)\n",
      "Requirement already satisfied: setuptools>=41.2.0 in c:\\users\\akira\\anaconda3\\lib\\site-packages (from investpy) (50.3.1.post20201107)\n",
      "Requirement already satisfied: numpy>=1.17.2 in c:\\users\\akira\\anaconda3\\lib\\site-packages (from investpy) (1.24.1)\n",
      "Requirement already satisfied: pandas>=0.25.1 in c:\\users\\akira\\anaconda3\\lib\\site-packages (from investpy) (1.5.3)\n",
      "Requirement already satisfied: lxml>=4.4.1 in c:\\users\\akira\\anaconda3\\lib\\site-packages (from investpy) (4.9.2)\n",
      "Requirement already satisfied: requests>=2.22.0 in c:\\users\\akira\\anaconda3\\lib\\site-packages (from investpy) (2.28.2)\n",
      "Requirement already satisfied: pytz>=2019.3 in c:\\users\\akira\\anaconda3\\lib\\site-packages (from investpy) (2022.7.1)\n",
      "Requirement already satisfied: python-dateutil>=2.8.1 in c:\\users\\akira\\anaconda3\\lib\\site-packages (from pandas>=0.25.1->investpy) (2.8.1)\n",
      "Requirement already satisfied: idna<4,>=2.5 in c:\\users\\akira\\anaconda3\\lib\\site-packages (from requests>=2.22.0->investpy) (2.10)\n",
      "Requirement already satisfied: certifi>=2017.4.17 in c:\\users\\akira\\anaconda3\\lib\\site-packages (from requests>=2.22.0->investpy) (2020.6.20)\n",
      "Requirement already satisfied: urllib3<1.27,>=1.21.1 in c:\\users\\akira\\anaconda3\\lib\\site-packages (from requests>=2.22.0->investpy) (1.25.11)\n",
      "Requirement already satisfied: charset-normalizer<4,>=2 in c:\\users\\akira\\anaconda3\\lib\\site-packages (from requests>=2.22.0->investpy) (3.0.1)\n",
      "Requirement already satisfied: six>=1.5 in c:\\users\\akira\\anaconda3\\lib\\site-packages (from python-dateutil>=2.8.1->pandas>=0.25.1->investpy) (1.15.0)\n",
      "Building wheels for collected packages: investpy\n",
      "  Building wheel for investpy (setup.py): started\n",
      "  Building wheel for investpy (setup.py): finished with status 'done'\n",
      "  Created wheel for investpy: filename=investpy-1.0.8-py3-none-any.whl size=4481580 sha256=bd3170090f7b2e42324823ec48b01c117b53169cb8ec9cee970c4c61e4feec0f\n",
      "  Stored in directory: c:\\users\\akira\\appdata\\local\\pip\\cache\\wheels\\9a\\6f\\8e\\21466569113166e5859029b97fcae2b81af57063ed9faf698e\n",
      "Successfully built investpy\n",
      "Installing collected packages: Unidecode, investpy\n",
      "Successfully installed Unidecode-1.3.6 investpy-1.0.8\n"
     ]
    }
   ],
   "source": [
    "!pip install ta\n",
    "!pip install investpy"
   ]
  },
  {
   "cell_type": "code",
   "execution_count": 2,
   "metadata": {},
   "outputs": [
    {
     "name": "stdout",
     "output_type": "stream",
     "text": [
      "Requirement already satisfied: plotly in c:\\users\\akira\\anaconda3\\lib\\site-packages (5.9.0)\n",
      "Requirement already satisfied: tenacity>=6.2.0 in c:\\users\\akira\\anaconda3\\lib\\site-packages (from plotly) (8.0.1)\n"
     ]
    }
   ],
   "source": [
    "!pip install plotly"
   ]
  },
  {
   "cell_type": "code",
   "execution_count": 5,
   "metadata": {},
   "outputs": [],
   "source": [
    "import ta\n",
    "import investpy\n",
    "import pandas as pd \n",
    "import plotly.graph_objects as go "
   ]
  },
  {
   "cell_type": "markdown",
   "metadata": {},
   "source": [
    "# 2.Capturando Dados"
   ]
  },
  {
   "cell_type": "code",
   "execution_count": 7,
   "metadata": {},
   "outputs": [
    {
     "ename": "AttributeError",
     "evalue": "module 'investpy' has no attribute 'get_historcal_data'",
     "output_type": "error",
     "traceback": [
      "\u001b[1;31m---------------------------------------------------------------------------\u001b[0m",
      "\u001b[1;31mAttributeError\u001b[0m                            Traceback (most recent call last)",
      "\u001b[1;32m<ipython-input-7-c5cd2477f6b8>\u001b[0m in \u001b[0;36m<module>\u001b[1;34m\u001b[0m\n\u001b[1;32m----> 1\u001b[1;33m \u001b[0mdf\u001b[0m \u001b[1;33m=\u001b[0m \u001b[0minvestpy\u001b[0m\u001b[1;33m.\u001b[0m\u001b[0mget_historcal_data\u001b[0m\u001b[1;33m(\u001b[0m\u001b[0mstock\u001b[0m\u001b[1;33m=\u001b[0m\u001b[1;34m'BRML3'\u001b[0m\u001b[1;33m,\u001b[0m \u001b[0mcountry\u001b[0m\u001b[1;33m=\u001b[0m\u001b[1;34m'Brazil'\u001b[0m\u001b[1;33m,\u001b[0m \u001b[0mfrom_date\u001b[0m\u001b[1;33m=\u001b[0m\u001b[1;34m'01/01/2020'\u001b[0m\u001b[1;33m,\u001b[0m \u001b[0mto_date\u001b[0m\u001b[1;33m=\u001b[0m\u001b[1;34m'03/03/2023'\u001b[0m\u001b[1;33m)\u001b[0m\u001b[1;33m\u001b[0m\u001b[1;33m\u001b[0m\u001b[0m\n\u001b[0m",
      "\u001b[1;31mAttributeError\u001b[0m: module 'investpy' has no attribute 'get_historcal_data'"
     ]
    }
   ],
   "source": [
    "df = investpy.get_historcal_data(stock='BRML3', country='Brazil', from_date='01/01/2020', to_date='03/03/2023')"
   ]
  },
  {
   "cell_type": "code",
   "execution_count": null,
   "metadata": {},
   "outputs": [],
   "source": []
  },
  {
   "cell_type": "code",
   "execution_count": null,
   "metadata": {},
   "outputs": [],
   "source": []
  },
  {
   "cell_type": "code",
   "execution_count": null,
   "metadata": {},
   "outputs": [],
   "source": []
  },
  {
   "cell_type": "code",
   "execution_count": null,
   "metadata": {},
   "outputs": [],
   "source": []
  },
  {
   "cell_type": "code",
   "execution_count": null,
   "metadata": {},
   "outputs": [],
   "source": []
  },
  {
   "cell_type": "code",
   "execution_count": null,
   "metadata": {},
   "outputs": [],
   "source": []
  },
  {
   "cell_type": "code",
   "execution_count": null,
   "metadata": {},
   "outputs": [],
   "source": []
  },
  {
   "cell_type": "code",
   "execution_count": null,
   "metadata": {},
   "outputs": [],
   "source": []
  },
  {
   "cell_type": "code",
   "execution_count": null,
   "metadata": {},
   "outputs": [],
   "source": []
  },
  {
   "cell_type": "code",
   "execution_count": null,
   "metadata": {},
   "outputs": [],
   "source": []
  },
  {
   "cell_type": "code",
   "execution_count": null,
   "metadata": {},
   "outputs": [],
   "source": []
  },
  {
   "cell_type": "code",
   "execution_count": null,
   "metadata": {},
   "outputs": [],
   "source": []
  },
  {
   "cell_type": "code",
   "execution_count": null,
   "metadata": {},
   "outputs": [],
   "source": []
  },
  {
   "cell_type": "code",
   "execution_count": null,
   "metadata": {},
   "outputs": [],
   "source": []
  },
  {
   "cell_type": "code",
   "execution_count": null,
   "metadata": {},
   "outputs": [],
   "source": []
  },
  {
   "cell_type": "code",
   "execution_count": null,
   "metadata": {},
   "outputs": [],
   "source": []
  },
  {
   "cell_type": "code",
   "execution_count": null,
   "metadata": {},
   "outputs": [],
   "source": []
  },
  {
   "cell_type": "code",
   "execution_count": null,
   "metadata": {},
   "outputs": [],
   "source": []
  },
  {
   "cell_type": "code",
   "execution_count": null,
   "metadata": {},
   "outputs": [],
   "source": []
  },
  {
   "cell_type": "code",
   "execution_count": null,
   "metadata": {},
   "outputs": [],
   "source": []
  },
  {
   "cell_type": "code",
   "execution_count": null,
   "metadata": {},
   "outputs": [],
   "source": []
  },
  {
   "cell_type": "code",
   "execution_count": null,
   "metadata": {},
   "outputs": [],
   "source": []
  },
  {
   "cell_type": "code",
   "execution_count": null,
   "metadata": {},
   "outputs": [],
   "source": []
  },
  {
   "cell_type": "code",
   "execution_count": null,
   "metadata": {},
   "outputs": [],
   "source": []
  },
  {
   "cell_type": "code",
   "execution_count": null,
   "metadata": {},
   "outputs": [],
   "source": []
  },
  {
   "cell_type": "code",
   "execution_count": null,
   "metadata": {},
   "outputs": [],
   "source": []
  },
  {
   "cell_type": "code",
   "execution_count": null,
   "metadata": {},
   "outputs": [],
   "source": []
  },
  {
   "cell_type": "code",
   "execution_count": null,
   "metadata": {},
   "outputs": [],
   "source": []
  },
  {
   "cell_type": "code",
   "execution_count": null,
   "metadata": {},
   "outputs": [],
   "source": []
  },
  {
   "cell_type": "code",
   "execution_count": null,
   "metadata": {},
   "outputs": [],
   "source": []
  },
  {
   "cell_type": "code",
   "execution_count": null,
   "metadata": {},
   "outputs": [],
   "source": []
  },
  {
   "cell_type": "code",
   "execution_count": null,
   "metadata": {},
   "outputs": [],
   "source": []
  },
  {
   "cell_type": "code",
   "execution_count": null,
   "metadata": {},
   "outputs": [],
   "source": []
  }
 ],
 "metadata": {
  "kernelspec": {
   "display_name": "Python 3",
   "language": "python",
   "name": "python3"
  },
  "language_info": {
   "codemirror_mode": {
    "name": "ipython",
    "version": 3
   },
   "file_extension": ".py",
   "mimetype": "text/x-python",
   "name": "python",
   "nbconvert_exporter": "python",
   "pygments_lexer": "ipython3",
   "version": "3.8.5"
  }
 },
 "nbformat": 4,
 "nbformat_minor": 4
}
