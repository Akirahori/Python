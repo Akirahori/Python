{
 "cells": [
  {
   "attachments": {},
   "cell_type": "markdown",
   "metadata": {},
   "source": [
    "# 1. Obtendo dados cadastrais das empresas de capital aberto"
   ]
  },
  {
   "cell_type": "code",
   "execution_count": 46,
   "metadata": {},
   "outputs": [],
   "source": [
    "import pandas as pd \n",
    "import numpy as np \n",
    "import requests"
   ]
  },
  {
   "cell_type": "code",
   "execution_count": 47,
   "metadata": {},
   "outputs": [],
   "source": [
    "link = 'https://dados.cvm.gov.br/dados/CIA_ABERTA/CAD/DADOS/cad_cia_aberta.csv'\n"
   ]
  },
  {
   "cell_type": "code",
   "execution_count": 48,
   "metadata": {},
   "outputs": [],
   "source": [
    "r = requests.get(link)"
   ]
  },
  {
   "cell_type": "code",
   "execution_count": 49,
   "metadata": {},
   "outputs": [],
   "source": [
    "linhas = []\n",
    "\n",
    "for i in r.text.split('\\n'):\n",
    "    linhas.append(i.strip().split(';'))"
   ]
  },
  {
   "cell_type": "code",
   "execution_count": 51,
   "metadata": {},
   "outputs": [
    {
     "data": {
      "text/plain": [
       "['CNPJ_CIA',\n",
       " 'DENOM_SOCIAL',\n",
       " 'DENOM_COMERC',\n",
       " 'DT_REG',\n",
       " 'DT_CONST',\n",
       " 'DT_CANCEL',\n",
       " 'MOTIVO_CANCEL',\n",
       " 'SIT',\n",
       " 'DT_INI_SIT',\n",
       " 'CD_CVM',\n",
       " 'SETOR_ATIV',\n",
       " 'TP_MERC',\n",
       " 'CATEG_REG',\n",
       " 'DT_INI_CATEG',\n",
       " 'SIT_EMISSOR',\n",
       " 'DT_INI_SIT_EMISSOR',\n",
       " 'CONTROLE_ACIONARIO',\n",
       " 'TP_ENDER',\n",
       " 'LOGRADOURO',\n",
       " 'COMPL',\n",
       " 'BAIRRO',\n",
       " 'MUN',\n",
       " 'UF',\n",
       " 'PAIS',\n",
       " 'CEP',\n",
       " 'DDD_TEL',\n",
       " 'TEL',\n",
       " 'DDD_FAX',\n",
       " 'FAX',\n",
       " 'EMAIL',\n",
       " 'TP_RESP',\n",
       " 'RESP',\n",
       " 'DT_INI_RESP',\n",
       " 'LOGRADOURO_RESP',\n",
       " 'COMPL_RESP',\n",
       " 'BAIRRO_RESP',\n",
       " 'MUN_RESP',\n",
       " 'UF_RESP',\n",
       " 'PAIS_RESP',\n",
       " 'CEP_RESP',\n",
       " 'DDD_TEL_RESP',\n",
       " 'TEL_RESP',\n",
       " 'DDD_FAX_RESP',\n",
       " 'FAX_RESP',\n",
       " 'EMAIL_RESP',\n",
       " 'CNPJ_AUDITOR',\n",
       " 'AUDITOR']"
      ]
     },
     "execution_count": 51,
     "metadata": {},
     "output_type": "execute_result"
    }
   ],
   "source": [
    "linhas[0]"
   ]
  },
  {
   "cell_type": "code",
   "execution_count": 52,
   "metadata": {},
   "outputs": [],
   "source": [
    "data = pd.DataFrame(linhas[1:], columns=linhas[0])"
   ]
  },
  {
   "cell_type": "code",
   "execution_count": 53,
   "metadata": {},
   "outputs": [
    {
     "data": {
      "text/html": [
       "<div>\n",
       "<style scoped>\n",
       "    .dataframe tbody tr th:only-of-type {\n",
       "        vertical-align: middle;\n",
       "    }\n",
       "\n",
       "    .dataframe tbody tr th {\n",
       "        vertical-align: top;\n",
       "    }\n",
       "\n",
       "    .dataframe thead th {\n",
       "        text-align: right;\n",
       "    }\n",
       "</style>\n",
       "<table border=\"1\" class=\"dataframe\">\n",
       "  <thead>\n",
       "    <tr style=\"text-align: right;\">\n",
       "      <th></th>\n",
       "      <th>CNPJ_CIA</th>\n",
       "      <th>DENOM_SOCIAL</th>\n",
       "      <th>DENOM_COMERC</th>\n",
       "      <th>DT_REG</th>\n",
       "      <th>DT_CONST</th>\n",
       "      <th>DT_CANCEL</th>\n",
       "      <th>MOTIVO_CANCEL</th>\n",
       "      <th>SIT</th>\n",
       "      <th>DT_INI_SIT</th>\n",
       "      <th>CD_CVM</th>\n",
       "      <th>...</th>\n",
       "      <th>UF_RESP</th>\n",
       "      <th>PAIS_RESP</th>\n",
       "      <th>CEP_RESP</th>\n",
       "      <th>DDD_TEL_RESP</th>\n",
       "      <th>TEL_RESP</th>\n",
       "      <th>DDD_FAX_RESP</th>\n",
       "      <th>FAX_RESP</th>\n",
       "      <th>EMAIL_RESP</th>\n",
       "      <th>CNPJ_AUDITOR</th>\n",
       "      <th>AUDITOR</th>\n",
       "    </tr>\n",
       "  </thead>\n",
       "  <tbody>\n",
       "    <tr>\n",
       "      <th>0</th>\n",
       "      <td>08.773.135/0001-00</td>\n",
       "      <td>2W ECOBANK S.A.</td>\n",
       "      <td>2W ECOBANK S.A.</td>\n",
       "      <td>2020-10-29</td>\n",
       "      <td>2007-03-23</td>\n",
       "      <td></td>\n",
       "      <td></td>\n",
       "      <td>ATIVO</td>\n",
       "      <td>2020-10-29</td>\n",
       "      <td>25224</td>\n",
       "      <td>...</td>\n",
       "      <td>SP</td>\n",
       "      <td></td>\n",
       "      <td>4707000</td>\n",
       "      <td>11</td>\n",
       "      <td>39579400</td>\n",
       "      <td></td>\n",
       "      <td></td>\n",
       "      <td>ri@2wenergia.com.br</td>\n",
       "      <td>61.366.936/0001-25</td>\n",
       "      <td>ERNST &amp; YOUNG AUDITORES INDEPENDENTES S/S LTDA.</td>\n",
       "    </tr>\n",
       "    <tr>\n",
       "      <th>1</th>\n",
       "      <td>11.396.633/0001-87</td>\n",
       "      <td>3A COMPANHIA SECURITIZADORA</td>\n",
       "      <td>TRIPLO A  COMPANHIA SECURITIZADORA</td>\n",
       "      <td>2010-03-08</td>\n",
       "      <td>2009-11-03</td>\n",
       "      <td>2015-12-18</td>\n",
       "      <td>Cancelamento Voluntário - IN CVM 480/09</td>\n",
       "      <td>CANCELADA</td>\n",
       "      <td>2015-12-18</td>\n",
       "      <td>21954</td>\n",
       "      <td>...</td>\n",
       "      <td>RJ</td>\n",
       "      <td></td>\n",
       "      <td>20020000</td>\n",
       "      <td>21</td>\n",
       "      <td>22338867</td>\n",
       "      <td>21</td>\n",
       "      <td>22338867</td>\n",
       "      <td>juridico@triploasec.com.br</td>\n",
       "      <td>60.525.706/0001-07</td>\n",
       "      <td>MOORE STEPHENS LIMA LUCCHESI AUDITORES INDEPEN...</td>\n",
       "    </tr>\n",
       "    <tr>\n",
       "      <th>2</th>\n",
       "      <td>12.091.809/0001-55</td>\n",
       "      <td>3R PETROLEUM OLÉO E GÁS S.A.</td>\n",
       "      <td></td>\n",
       "      <td>2020-11-09</td>\n",
       "      <td>2010-06-08</td>\n",
       "      <td></td>\n",
       "      <td></td>\n",
       "      <td>ATIVO</td>\n",
       "      <td>2020-11-09</td>\n",
       "      <td>25291</td>\n",
       "      <td>...</td>\n",
       "      <td>RJ</td>\n",
       "      <td></td>\n",
       "      <td>22250180</td>\n",
       "      <td>21</td>\n",
       "      <td>21455555</td>\n",
       "      <td>0</td>\n",
       "      <td>0</td>\n",
       "      <td>ri@3rpetroleum.com.br</td>\n",
       "      <td>57.755.217/0001-29</td>\n",
       "      <td>KPMG AUDITORES INDEPENDENTES LTDA.</td>\n",
       "    </tr>\n",
       "    <tr>\n",
       "      <th>3</th>\n",
       "      <td>01.547.749/0001-16</td>\n",
       "      <td>521 PARTICIPAÇOES S.A. - EM LIQUIDAÇÃO EXTRAJU...</td>\n",
       "      <td>521 PARTICIPAÇÕES S/A</td>\n",
       "      <td>1997-07-11</td>\n",
       "      <td>1996-07-30</td>\n",
       "      <td></td>\n",
       "      <td></td>\n",
       "      <td>ATIVO</td>\n",
       "      <td>1997-07-11</td>\n",
       "      <td>16330</td>\n",
       "      <td>...</td>\n",
       "      <td></td>\n",
       "      <td></td>\n",
       "      <td></td>\n",
       "      <td></td>\n",
       "      <td></td>\n",
       "      <td></td>\n",
       "      <td></td>\n",
       "      <td></td>\n",
       "      <td>18.596.945/0001-83</td>\n",
       "      <td>BAKER TILLY 4PARTNERS AUDITORES INDEPENDENTES S/S</td>\n",
       "    </tr>\n",
       "    <tr>\n",
       "      <th>4</th>\n",
       "      <td>01.851.771/0001-55</td>\n",
       "      <td>524 PARTICIPAÇOES SA</td>\n",
       "      <td>524 PARTICIPACOES SA</td>\n",
       "      <td>1997-05-30</td>\n",
       "      <td>1997-04-02</td>\n",
       "      <td></td>\n",
       "      <td></td>\n",
       "      <td>ATIVO</td>\n",
       "      <td>1997-05-30</td>\n",
       "      <td>16284</td>\n",
       "      <td>...</td>\n",
       "      <td>RJ</td>\n",
       "      <td></td>\n",
       "      <td>20020010</td>\n",
       "      <td>21</td>\n",
       "      <td>38043700</td>\n",
       "      <td>0</td>\n",
       "      <td>0</td>\n",
       "      <td>gar@opportunity.com.br</td>\n",
       "      <td>40.262.602/0001-31</td>\n",
       "      <td>BKR - LOPES, MACHADO AUDITORES</td>\n",
       "    </tr>\n",
       "  </tbody>\n",
       "</table>\n",
       "<p>5 rows × 47 columns</p>\n",
       "</div>"
      ],
      "text/plain": [
       "             CNPJ_CIA                                       DENOM_SOCIAL  \\\n",
       "0  08.773.135/0001-00                                    2W ECOBANK S.A.   \n",
       "1  11.396.633/0001-87                        3A COMPANHIA SECURITIZADORA   \n",
       "2  12.091.809/0001-55                       3R PETROLEUM OLÉO E GÁS S.A.   \n",
       "3  01.547.749/0001-16  521 PARTICIPAÇOES S.A. - EM LIQUIDAÇÃO EXTRAJU...   \n",
       "4  01.851.771/0001-55                               524 PARTICIPAÇOES SA   \n",
       "\n",
       "                         DENOM_COMERC      DT_REG    DT_CONST   DT_CANCEL  \\\n",
       "0                     2W ECOBANK S.A.  2020-10-29  2007-03-23               \n",
       "1  TRIPLO A  COMPANHIA SECURITIZADORA  2010-03-08  2009-11-03  2015-12-18   \n",
       "2                                      2020-11-09  2010-06-08               \n",
       "3               521 PARTICIPAÇÕES S/A  1997-07-11  1996-07-30               \n",
       "4                524 PARTICIPACOES SA  1997-05-30  1997-04-02               \n",
       "\n",
       "                             MOTIVO_CANCEL        SIT  DT_INI_SIT CD_CVM  ...  \\\n",
       "0                                               ATIVO  2020-10-29  25224  ...   \n",
       "1  Cancelamento Voluntário - IN CVM 480/09  CANCELADA  2015-12-18  21954  ...   \n",
       "2                                               ATIVO  2020-11-09  25291  ...   \n",
       "3                                               ATIVO  1997-07-11  16330  ...   \n",
       "4                                               ATIVO  1997-05-30  16284  ...   \n",
       "\n",
       "  UF_RESP PAIS_RESP  CEP_RESP DDD_TEL_RESP  TEL_RESP DDD_FAX_RESP  FAX_RESP  \\\n",
       "0      SP             4707000           11  39579400                          \n",
       "1      RJ            20020000           21  22338867           21  22338867   \n",
       "2      RJ            22250180           21  21455555            0         0   \n",
       "3                                                                             \n",
       "4      RJ            20020010           21  38043700            0         0   \n",
       "\n",
       "                   EMAIL_RESP        CNPJ_AUDITOR  \\\n",
       "0         ri@2wenergia.com.br  61.366.936/0001-25   \n",
       "1  juridico@triploasec.com.br  60.525.706/0001-07   \n",
       "2       ri@3rpetroleum.com.br  57.755.217/0001-29   \n",
       "3                              18.596.945/0001-83   \n",
       "4      gar@opportunity.com.br  40.262.602/0001-31   \n",
       "\n",
       "                                             AUDITOR  \n",
       "0    ERNST & YOUNG AUDITORES INDEPENDENTES S/S LTDA.  \n",
       "1  MOORE STEPHENS LIMA LUCCHESI AUDITORES INDEPEN...  \n",
       "2                 KPMG AUDITORES INDEPENDENTES LTDA.  \n",
       "3  BAKER TILLY 4PARTNERS AUDITORES INDEPENDENTES S/S  \n",
       "4                     BKR - LOPES, MACHADO AUDITORES  \n",
       "\n",
       "[5 rows x 47 columns]"
      ]
     },
     "execution_count": 53,
     "metadata": {},
     "output_type": "execute_result"
    }
   ],
   "source": [
    "data.head()"
   ]
  },
  {
   "cell_type": "code",
   "execution_count": 54,
   "metadata": {},
   "outputs": [],
   "source": [
    "#list comprehension\n",
    "lines =[i.strip().split(';') for i in r.text.split('\\n')]"
   ]
  },
  {
   "cell_type": "code",
   "execution_count": 55,
   "metadata": {},
   "outputs": [],
   "source": [
    "data = pd.DataFrame(lines[1:], columns= lines[0])"
   ]
  },
  {
   "cell_type": "code",
   "execution_count": 103,
   "metadata": {},
   "outputs": [
    {
     "data": {
      "text/html": [
       "<div>\n",
       "<style scoped>\n",
       "    .dataframe tbody tr th:only-of-type {\n",
       "        vertical-align: middle;\n",
       "    }\n",
       "\n",
       "    .dataframe tbody tr th {\n",
       "        vertical-align: top;\n",
       "    }\n",
       "\n",
       "    .dataframe thead th {\n",
       "        text-align: right;\n",
       "    }\n",
       "</style>\n",
       "<table border=\"1\" class=\"dataframe\">\n",
       "  <thead>\n",
       "    <tr style=\"text-align: right;\">\n",
       "      <th></th>\n",
       "      <th>CNPJ_CIA</th>\n",
       "      <th>DENOM_SOCIAL</th>\n",
       "      <th>DENOM_COMERC</th>\n",
       "      <th>DT_REG</th>\n",
       "      <th>DT_CONST</th>\n",
       "      <th>DT_CANCEL</th>\n",
       "      <th>MOTIVO_CANCEL</th>\n",
       "      <th>SIT</th>\n",
       "      <th>DT_INI_SIT</th>\n",
       "      <th>CD_CVM</th>\n",
       "      <th>...</th>\n",
       "      <th>UF_RESP</th>\n",
       "      <th>PAIS_RESP</th>\n",
       "      <th>CEP_RESP</th>\n",
       "      <th>DDD_TEL_RESP</th>\n",
       "      <th>TEL_RESP</th>\n",
       "      <th>DDD_FAX_RESP</th>\n",
       "      <th>FAX_RESP</th>\n",
       "      <th>EMAIL_RESP</th>\n",
       "      <th>CNPJ_AUDITOR</th>\n",
       "      <th>AUDITOR</th>\n",
       "    </tr>\n",
       "  </thead>\n",
       "  <tbody>\n",
       "    <tr>\n",
       "      <th>0</th>\n",
       "      <td>08.773.135/0001-00</td>\n",
       "      <td>2W ECOBANK S.A.</td>\n",
       "      <td>2W ECOBANK S.A.</td>\n",
       "      <td>2020-10-29</td>\n",
       "      <td>2007-03-23</td>\n",
       "      <td></td>\n",
       "      <td></td>\n",
       "      <td>ATIVO</td>\n",
       "      <td>2020-10-29</td>\n",
       "      <td>25224</td>\n",
       "      <td>...</td>\n",
       "      <td>SP</td>\n",
       "      <td></td>\n",
       "      <td>4707000</td>\n",
       "      <td>11</td>\n",
       "      <td>39579400</td>\n",
       "      <td></td>\n",
       "      <td></td>\n",
       "      <td>ri@2wenergia.com.br</td>\n",
       "      <td>61.366.936/0001-25</td>\n",
       "      <td>ERNST &amp; YOUNG AUDITORES INDEPENDENTES S/S LTDA.</td>\n",
       "    </tr>\n",
       "    <tr>\n",
       "      <th>1</th>\n",
       "      <td>11.396.633/0001-87</td>\n",
       "      <td>3A COMPANHIA SECURITIZADORA</td>\n",
       "      <td>TRIPLO A  COMPANHIA SECURITIZADORA</td>\n",
       "      <td>2010-03-08</td>\n",
       "      <td>2009-11-03</td>\n",
       "      <td>2015-12-18</td>\n",
       "      <td>Cancelamento Voluntário - IN CVM 480/09</td>\n",
       "      <td>CANCELADA</td>\n",
       "      <td>2015-12-18</td>\n",
       "      <td>21954</td>\n",
       "      <td>...</td>\n",
       "      <td>RJ</td>\n",
       "      <td></td>\n",
       "      <td>20020000</td>\n",
       "      <td>21</td>\n",
       "      <td>22338867</td>\n",
       "      <td>21</td>\n",
       "      <td>22338867</td>\n",
       "      <td>juridico@triploasec.com.br</td>\n",
       "      <td>60.525.706/0001-07</td>\n",
       "      <td>MOORE STEPHENS LIMA LUCCHESI AUDITORES INDEPEN...</td>\n",
       "    </tr>\n",
       "    <tr>\n",
       "      <th>2</th>\n",
       "      <td>12.091.809/0001-55</td>\n",
       "      <td>3R PETROLEUM OLÉO E GÁS S.A.</td>\n",
       "      <td></td>\n",
       "      <td>2020-11-09</td>\n",
       "      <td>2010-06-08</td>\n",
       "      <td></td>\n",
       "      <td></td>\n",
       "      <td>ATIVO</td>\n",
       "      <td>2020-11-09</td>\n",
       "      <td>25291</td>\n",
       "      <td>...</td>\n",
       "      <td>RJ</td>\n",
       "      <td></td>\n",
       "      <td>22250180</td>\n",
       "      <td>21</td>\n",
       "      <td>21455555</td>\n",
       "      <td>0</td>\n",
       "      <td>0</td>\n",
       "      <td>ri@3rpetroleum.com.br</td>\n",
       "      <td>57.755.217/0001-29</td>\n",
       "      <td>KPMG AUDITORES INDEPENDENTES LTDA.</td>\n",
       "    </tr>\n",
       "    <tr>\n",
       "      <th>3</th>\n",
       "      <td>01.547.749/0001-16</td>\n",
       "      <td>521 PARTICIPAÇOES S.A. - EM LIQUIDAÇÃO EXTRAJU...</td>\n",
       "      <td>521 PARTICIPAÇÕES S/A</td>\n",
       "      <td>1997-07-11</td>\n",
       "      <td>1996-07-30</td>\n",
       "      <td></td>\n",
       "      <td></td>\n",
       "      <td>ATIVO</td>\n",
       "      <td>1997-07-11</td>\n",
       "      <td>16330</td>\n",
       "      <td>...</td>\n",
       "      <td></td>\n",
       "      <td></td>\n",
       "      <td></td>\n",
       "      <td></td>\n",
       "      <td></td>\n",
       "      <td></td>\n",
       "      <td></td>\n",
       "      <td></td>\n",
       "      <td>18.596.945/0001-83</td>\n",
       "      <td>BAKER TILLY 4PARTNERS AUDITORES INDEPENDENTES S/S</td>\n",
       "    </tr>\n",
       "    <tr>\n",
       "      <th>4</th>\n",
       "      <td>01.851.771/0001-55</td>\n",
       "      <td>524 PARTICIPAÇOES SA</td>\n",
       "      <td>524 PARTICIPACOES SA</td>\n",
       "      <td>1997-05-30</td>\n",
       "      <td>1997-04-02</td>\n",
       "      <td></td>\n",
       "      <td></td>\n",
       "      <td>ATIVO</td>\n",
       "      <td>1997-05-30</td>\n",
       "      <td>16284</td>\n",
       "      <td>...</td>\n",
       "      <td>RJ</td>\n",
       "      <td></td>\n",
       "      <td>20020010</td>\n",
       "      <td>21</td>\n",
       "      <td>38043700</td>\n",
       "      <td>0</td>\n",
       "      <td>0</td>\n",
       "      <td>gar@opportunity.com.br</td>\n",
       "      <td>40.262.602/0001-31</td>\n",
       "      <td>BKR - LOPES, MACHADO AUDITORES</td>\n",
       "    </tr>\n",
       "  </tbody>\n",
       "</table>\n",
       "<p>5 rows × 47 columns</p>\n",
       "</div>"
      ],
      "text/plain": [
       "             CNPJ_CIA                                       DENOM_SOCIAL  \\\n",
       "0  08.773.135/0001-00                                    2W ECOBANK S.A.   \n",
       "1  11.396.633/0001-87                        3A COMPANHIA SECURITIZADORA   \n",
       "2  12.091.809/0001-55                       3R PETROLEUM OLÉO E GÁS S.A.   \n",
       "3  01.547.749/0001-16  521 PARTICIPAÇOES S.A. - EM LIQUIDAÇÃO EXTRAJU...   \n",
       "4  01.851.771/0001-55                               524 PARTICIPAÇOES SA   \n",
       "\n",
       "                         DENOM_COMERC      DT_REG    DT_CONST   DT_CANCEL  \\\n",
       "0                     2W ECOBANK S.A.  2020-10-29  2007-03-23               \n",
       "1  TRIPLO A  COMPANHIA SECURITIZADORA  2010-03-08  2009-11-03  2015-12-18   \n",
       "2                                      2020-11-09  2010-06-08               \n",
       "3               521 PARTICIPAÇÕES S/A  1997-07-11  1996-07-30               \n",
       "4                524 PARTICIPACOES SA  1997-05-30  1997-04-02               \n",
       "\n",
       "                             MOTIVO_CANCEL        SIT  DT_INI_SIT CD_CVM  ...  \\\n",
       "0                                               ATIVO  2020-10-29  25224  ...   \n",
       "1  Cancelamento Voluntário - IN CVM 480/09  CANCELADA  2015-12-18  21954  ...   \n",
       "2                                               ATIVO  2020-11-09  25291  ...   \n",
       "3                                               ATIVO  1997-07-11  16330  ...   \n",
       "4                                               ATIVO  1997-05-30  16284  ...   \n",
       "\n",
       "  UF_RESP PAIS_RESP  CEP_RESP DDD_TEL_RESP  TEL_RESP DDD_FAX_RESP  FAX_RESP  \\\n",
       "0      SP             4707000           11  39579400                          \n",
       "1      RJ            20020000           21  22338867           21  22338867   \n",
       "2      RJ            22250180           21  21455555            0         0   \n",
       "3                                                                             \n",
       "4      RJ            20020010           21  38043700            0         0   \n",
       "\n",
       "                   EMAIL_RESP        CNPJ_AUDITOR  \\\n",
       "0         ri@2wenergia.com.br  61.366.936/0001-25   \n",
       "1  juridico@triploasec.com.br  60.525.706/0001-07   \n",
       "2       ri@3rpetroleum.com.br  57.755.217/0001-29   \n",
       "3                              18.596.945/0001-83   \n",
       "4      gar@opportunity.com.br  40.262.602/0001-31   \n",
       "\n",
       "                                             AUDITOR  \n",
       "0    ERNST & YOUNG AUDITORES INDEPENDENTES S/S LTDA.  \n",
       "1  MOORE STEPHENS LIMA LUCCHESI AUDITORES INDEPEN...  \n",
       "2                 KPMG AUDITORES INDEPENDENTES LTDA.  \n",
       "3  BAKER TILLY 4PARTNERS AUDITORES INDEPENDENTES S/S  \n",
       "4                     BKR - LOPES, MACHADO AUDITORES  \n",
       "\n",
       "[5 rows x 47 columns]"
      ]
     },
     "execution_count": 103,
     "metadata": {},
     "output_type": "execute_result"
    }
   ],
   "source": [
    "data.head()"
   ]
  },
  {
   "cell_type": "code",
   "execution_count": 57,
   "metadata": {},
   "outputs": [],
   "source": [
    "#Filtrando\n",
    "searchfor = ['MULTIPLAN', 'MALL', 'IGUATEMI', 'SHOPP']\n",
    "shoppings = data[data.DENOM_SOCIAL.str.contains('|'.join(searchfor), na = False)]"
   ]
  },
  {
   "cell_type": "code",
   "execution_count": 58,
   "metadata": {},
   "outputs": [
    {
     "data": {
      "text/plain": [
       "(11, 47)"
      ]
     },
     "execution_count": 58,
     "metadata": {},
     "output_type": "execute_result"
    }
   ],
   "source": [
    "#Filtrando por ativos\n",
    "shoppings_ativos = shoppings[shoppings['SIT']== 'ATIVO']\n",
    "\n",
    "shoppings_ativos.shape"
   ]
  },
  {
   "cell_type": "code",
   "execution_count": 59,
   "metadata": {},
   "outputs": [
    {
     "data": {
      "text/html": [
       "<div>\n",
       "<style scoped>\n",
       "    .dataframe tbody tr th:only-of-type {\n",
       "        vertical-align: middle;\n",
       "    }\n",
       "\n",
       "    .dataframe tbody tr th {\n",
       "        vertical-align: top;\n",
       "    }\n",
       "\n",
       "    .dataframe thead th {\n",
       "        text-align: right;\n",
       "    }\n",
       "</style>\n",
       "<table border=\"1\" class=\"dataframe\">\n",
       "  <thead>\n",
       "    <tr style=\"text-align: right;\">\n",
       "      <th></th>\n",
       "      <th>CNPJ_CIA</th>\n",
       "      <th>DENOM_SOCIAL</th>\n",
       "      <th>DENOM_COMERC</th>\n",
       "      <th>DT_REG</th>\n",
       "      <th>DT_CONST</th>\n",
       "      <th>DT_CANCEL</th>\n",
       "      <th>MOTIVO_CANCEL</th>\n",
       "      <th>SIT</th>\n",
       "      <th>DT_INI_SIT</th>\n",
       "      <th>CD_CVM</th>\n",
       "      <th>...</th>\n",
       "      <th>UF_RESP</th>\n",
       "      <th>PAIS_RESP</th>\n",
       "      <th>CEP_RESP</th>\n",
       "      <th>DDD_TEL_RESP</th>\n",
       "      <th>TEL_RESP</th>\n",
       "      <th>DDD_FAX_RESP</th>\n",
       "      <th>FAX_RESP</th>\n",
       "      <th>EMAIL_RESP</th>\n",
       "      <th>CNPJ_AUDITOR</th>\n",
       "      <th>AUDITOR</th>\n",
       "    </tr>\n",
       "  </thead>\n",
       "  <tbody>\n",
       "    <tr>\n",
       "      <th>1476</th>\n",
       "      <td>08.294.224/0001-65</td>\n",
       "      <td>JHSF PARTICIPAÇÕES SA</td>\n",
       "      <td>JHSF</td>\n",
       "      <td>2007-04-04</td>\n",
       "      <td>2006-06-29</td>\n",
       "      <td></td>\n",
       "      <td></td>\n",
       "      <td>ATIVO</td>\n",
       "      <td>2007-04-04</td>\n",
       "      <td>20605</td>\n",
       "      <td>...</td>\n",
       "      <td>SP</td>\n",
       "      <td></td>\n",
       "      <td>5502001</td>\n",
       "      <td>11</td>\n",
       "      <td>37025473</td>\n",
       "      <td>11</td>\n",
       "      <td>37022370</td>\n",
       "      <td>ri@jhsf.com.br</td>\n",
       "      <td>61.366.936/0001-25</td>\n",
       "      <td>ERNST &amp; YOUNG AUDITORES INDEPENDENTES S/S LTDA.</td>\n",
       "    </tr>\n",
       "  </tbody>\n",
       "</table>\n",
       "<p>1 rows × 47 columns</p>\n",
       "</div>"
      ],
      "text/plain": [
       "                CNPJ_CIA           DENOM_SOCIAL DENOM_COMERC      DT_REG  \\\n",
       "1476  08.294.224/0001-65  JHSF PARTICIPAÇÕES SA         JHSF  2007-04-04   \n",
       "\n",
       "        DT_CONST DT_CANCEL MOTIVO_CANCEL    SIT  DT_INI_SIT CD_CVM  ...  \\\n",
       "1476  2006-06-29                          ATIVO  2007-04-04  20605  ...   \n",
       "\n",
       "     UF_RESP PAIS_RESP CEP_RESP DDD_TEL_RESP  TEL_RESP DDD_FAX_RESP  FAX_RESP  \\\n",
       "1476      SP            5502001           11  37025473           11  37022370   \n",
       "\n",
       "          EMAIL_RESP        CNPJ_AUDITOR  \\\n",
       "1476  ri@jhsf.com.br  61.366.936/0001-25   \n",
       "\n",
       "                                              AUDITOR  \n",
       "1476  ERNST & YOUNG AUDITORES INDEPENDENTES S/S LTDA.  \n",
       "\n",
       "[1 rows x 47 columns]"
      ]
     },
     "execution_count": 59,
     "metadata": {},
     "output_type": "execute_result"
    }
   ],
   "source": [
    "data[data['CNPJ_CIA'] == '08.294.224/0001-65']"
   ]
  },
  {
   "cell_type": "markdown",
   "metadata": {},
   "source": [
    "# 2. Extração dos demonstrativos trimestrais das empresas\n"
   ]
  },
  {
   "cell_type": "code",
   "execution_count": 61,
   "metadata": {},
   "outputs": [
    {
     "name": "stdout",
     "output_type": "stream",
     "text": [
      "Collecting zip_files\n",
      "  Downloading zip_files-0.4.1-py3-none-any.whl (12 kB)\n",
      "Requirement already satisfied: click in c:\\users\\akira\\anaconda3\\lib\\site-packages (from zip_files) (7.1.2)\n",
      "Installing collected packages: zip-files\n",
      "Successfully installed zip-files-0.4.1\n",
      "Note: you may need to restart the kernel to use updated packages.\n"
     ]
    }
   ],
   "source": [
    "pip install zip_files\n"
   ]
  },
  {
   "cell_type": "code",
   "execution_count": 67,
   "metadata": {},
   "outputs": [],
   "source": [
    "import zipfile\n",
    "import io"
   ]
  },
  {
   "cell_type": "code",
   "execution_count": 41,
   "metadata": {},
   "outputs": [],
   "source": [
    "arquivo = 'itr_cia_aberta_BPP_con_2022.csv'\n",
    "link = 'https://dados.cvm.gov.br/dados/CIA_ABERTA/DOC/ITR/DADOS/itr_cia_aberta_2022.zip'"
   ]
  },
  {
   "cell_type": "code",
   "execution_count": 38,
   "metadata": {},
   "outputs": [],
   "source": [
    "arquivo_zip = requests.get(link)"
   ]
  },
  {
   "cell_type": "code",
   "execution_count": 68,
   "metadata": {},
   "outputs": [],
   "source": [
    "zf = zipfile.ZipFile(io.BytesIO(arquivo_zip.content))"
   ]
  },
  {
   "cell_type": "code",
   "execution_count": 69,
   "metadata": {},
   "outputs": [],
   "source": [
    "DRE = zf.open(arquivo)"
   ]
  },
  {
   "cell_type": "code",
   "execution_count": 70,
   "metadata": {},
   "outputs": [],
   "source": [
    "linhas = DRE.readlines()\n",
    "\n"
   ]
  },
  {
   "cell_type": "code",
   "execution_count": 71,
   "metadata": {},
   "outputs": [],
   "source": [
    "lines =[i.strip().decode('ISO-8859-1') for i in linhas]"
   ]
  },
  {
   "cell_type": "code",
   "execution_count": 72,
   "metadata": {},
   "outputs": [],
   "source": [
    "lines =[i.split(';') for i in lines]"
   ]
  },
  {
   "cell_type": "code",
   "execution_count": 79,
   "metadata": {},
   "outputs": [],
   "source": [
    "df = pd.DataFrame(lines[1:], columns= lines[0])"
   ]
  },
  {
   "cell_type": "code",
   "execution_count": 74,
   "metadata": {
    "scrolled": true
   },
   "outputs": [
    {
     "data": {
      "text/html": [
       "<div>\n",
       "<style scoped>\n",
       "    .dataframe tbody tr th:only-of-type {\n",
       "        vertical-align: middle;\n",
       "    }\n",
       "\n",
       "    .dataframe tbody tr th {\n",
       "        vertical-align: top;\n",
       "    }\n",
       "\n",
       "    .dataframe thead th {\n",
       "        text-align: right;\n",
       "    }\n",
       "</style>\n",
       "<table border=\"1\" class=\"dataframe\">\n",
       "  <thead>\n",
       "    <tr style=\"text-align: right;\">\n",
       "      <th></th>\n",
       "      <th>CNPJ_CIA</th>\n",
       "      <th>DT_REFER</th>\n",
       "      <th>VERSAO</th>\n",
       "      <th>DENOM_CIA</th>\n",
       "      <th>CD_CVM</th>\n",
       "      <th>GRUPO_DFP</th>\n",
       "      <th>MOEDA</th>\n",
       "      <th>ESCALA_MOEDA</th>\n",
       "      <th>ORDEM_EXERC</th>\n",
       "      <th>DT_FIM_EXERC</th>\n",
       "      <th>CD_CONTA</th>\n",
       "      <th>DS_CONTA</th>\n",
       "      <th>VL_CONTA</th>\n",
       "      <th>ST_CONTA_FIXA</th>\n",
       "    </tr>\n",
       "  </thead>\n",
       "  <tbody>\n",
       "    <tr>\n",
       "      <th>0</th>\n",
       "      <td>00.000.000/0001-91</td>\n",
       "      <td>2022-03-31</td>\n",
       "      <td>1</td>\n",
       "      <td>BCO BRASIL S.A.</td>\n",
       "      <td>001023</td>\n",
       "      <td>DF Consolidado - Balanço Patrimonial Passivo</td>\n",
       "      <td>REAL</td>\n",
       "      <td>MIL</td>\n",
       "      <td>PENÚLTIMO</td>\n",
       "      <td>2021-12-31</td>\n",
       "      <td>2</td>\n",
       "      <td>Passivo Total</td>\n",
       "      <td>1899340511.0000000000</td>\n",
       "      <td>S</td>\n",
       "    </tr>\n",
       "    <tr>\n",
       "      <th>1</th>\n",
       "      <td>00.000.000/0001-91</td>\n",
       "      <td>2022-03-31</td>\n",
       "      <td>1</td>\n",
       "      <td>BCO BRASIL S.A.</td>\n",
       "      <td>001023</td>\n",
       "      <td>DF Consolidado - Balanço Patrimonial Passivo</td>\n",
       "      <td>REAL</td>\n",
       "      <td>MIL</td>\n",
       "      <td>ÚLTIMO</td>\n",
       "      <td>2022-03-31</td>\n",
       "      <td>2</td>\n",
       "      <td>Passivo Total</td>\n",
       "      <td>1998422303.0000000000</td>\n",
       "      <td>S</td>\n",
       "    </tr>\n",
       "    <tr>\n",
       "      <th>2</th>\n",
       "      <td>00.000.000/0001-91</td>\n",
       "      <td>2022-03-31</td>\n",
       "      <td>1</td>\n",
       "      <td>BCO BRASIL S.A.</td>\n",
       "      <td>001023</td>\n",
       "      <td>DF Consolidado - Balanço Patrimonial Passivo</td>\n",
       "      <td>REAL</td>\n",
       "      <td>MIL</td>\n",
       "      <td>PENÚLTIMO</td>\n",
       "      <td>2021-12-31</td>\n",
       "      <td>2.01</td>\n",
       "      <td>Passivos Financeiros Avaliados ao Valor Justo ...</td>\n",
       "      <td>2053161.0000000000</td>\n",
       "      <td>S</td>\n",
       "    </tr>\n",
       "    <tr>\n",
       "      <th>3</th>\n",
       "      <td>00.000.000/0001-91</td>\n",
       "      <td>2022-03-31</td>\n",
       "      <td>1</td>\n",
       "      <td>BCO BRASIL S.A.</td>\n",
       "      <td>001023</td>\n",
       "      <td>DF Consolidado - Balanço Patrimonial Passivo</td>\n",
       "      <td>REAL</td>\n",
       "      <td>MIL</td>\n",
       "      <td>ÚLTIMO</td>\n",
       "      <td>2022-03-31</td>\n",
       "      <td>2.01</td>\n",
       "      <td>Passivos Financeiros Avaliados ao Valor Justo ...</td>\n",
       "      <td>5878050.0000000000</td>\n",
       "      <td>S</td>\n",
       "    </tr>\n",
       "    <tr>\n",
       "      <th>4</th>\n",
       "      <td>00.000.000/0001-91</td>\n",
       "      <td>2022-03-31</td>\n",
       "      <td>1</td>\n",
       "      <td>BCO BRASIL S.A.</td>\n",
       "      <td>001023</td>\n",
       "      <td>DF Consolidado - Balanço Patrimonial Passivo</td>\n",
       "      <td>REAL</td>\n",
       "      <td>MIL</td>\n",
       "      <td>PENÚLTIMO</td>\n",
       "      <td>2021-12-31</td>\n",
       "      <td>2.02</td>\n",
       "      <td>Passivos Financeiros ao Custo Amortizado</td>\n",
       "      <td>1679166834.0000000000</td>\n",
       "      <td>S</td>\n",
       "    </tr>\n",
       "  </tbody>\n",
       "</table>\n",
       "</div>"
      ],
      "text/plain": [
       "             CNPJ_CIA    DT_REFER VERSAO        DENOM_CIA  CD_CVM  \\\n",
       "0  00.000.000/0001-91  2022-03-31      1  BCO BRASIL S.A.  001023   \n",
       "1  00.000.000/0001-91  2022-03-31      1  BCO BRASIL S.A.  001023   \n",
       "2  00.000.000/0001-91  2022-03-31      1  BCO BRASIL S.A.  001023   \n",
       "3  00.000.000/0001-91  2022-03-31      1  BCO BRASIL S.A.  001023   \n",
       "4  00.000.000/0001-91  2022-03-31      1  BCO BRASIL S.A.  001023   \n",
       "\n",
       "                                      GRUPO_DFP MOEDA ESCALA_MOEDA  \\\n",
       "0  DF Consolidado - Balanço Patrimonial Passivo  REAL          MIL   \n",
       "1  DF Consolidado - Balanço Patrimonial Passivo  REAL          MIL   \n",
       "2  DF Consolidado - Balanço Patrimonial Passivo  REAL          MIL   \n",
       "3  DF Consolidado - Balanço Patrimonial Passivo  REAL          MIL   \n",
       "4  DF Consolidado - Balanço Patrimonial Passivo  REAL          MIL   \n",
       "\n",
       "  ORDEM_EXERC DT_FIM_EXERC CD_CONTA  \\\n",
       "0   PENÚLTIMO   2021-12-31        2   \n",
       "1      ÚLTIMO   2022-03-31        2   \n",
       "2   PENÚLTIMO   2021-12-31     2.01   \n",
       "3      ÚLTIMO   2022-03-31     2.01   \n",
       "4   PENÚLTIMO   2021-12-31     2.02   \n",
       "\n",
       "                                            DS_CONTA               VL_CONTA  \\\n",
       "0                                      Passivo Total  1899340511.0000000000   \n",
       "1                                      Passivo Total  1998422303.0000000000   \n",
       "2  Passivos Financeiros Avaliados ao Valor Justo ...     2053161.0000000000   \n",
       "3  Passivos Financeiros Avaliados ao Valor Justo ...     5878050.0000000000   \n",
       "4           Passivos Financeiros ao Custo Amortizado  1679166834.0000000000   \n",
       "\n",
       "  ST_CONTA_FIXA  \n",
       "0             S  \n",
       "1             S  \n",
       "2             S  \n",
       "3             S  \n",
       "4             S  "
      ]
     },
     "execution_count": 74,
     "metadata": {},
     "output_type": "execute_result"
    }
   ],
   "source": [
    "data_trimestral.head()"
   ]
  },
  {
   "attachments": {},
   "cell_type": "markdown",
   "metadata": {},
   "source": [
    "# 3. Criação de uma rotina de extração"
   ]
  },
  {
   "cell_type": "code",
   "execution_count": 83,
   "metadata": {},
   "outputs": [
    {
     "name": "stdout",
     "output_type": "stream",
     "text": [
      "Requirement already satisfied: xlsxwriter in c:\\users\\akira\\anaconda3\\lib\\site-packages (1.3.7)\n",
      "Note: you may need to restart the kernel to use updated packages.\n"
     ]
    }
   ],
   "source": [
    "pip install xlsxwriter "
   ]
  },
  {
   "cell_type": "code",
   "execution_count": 86,
   "metadata": {},
   "outputs": [],
   "source": [
    "import xlsxwriter \n",
    "import zipfile\n",
    "import io"
   ]
  },
  {
   "cell_type": "code",
   "execution_count": 80,
   "metadata": {},
   "outputs": [
    {
     "data": {
      "text/plain": [
       "array(['2021-12-31', '2022-03-31', '2022-06-30', '2022-09-30',\n",
       "       '2022-12-31', '2021-06-30', '2022-02-28', '2022-05-31',\n",
       "       '2022-08-31', '2022-11-30'], dtype=object)"
      ]
     },
     "execution_count": 80,
     "metadata": {},
     "output_type": "execute_result"
    }
   ],
   "source": [
    "df.DT_FIM_EXERC.unique()"
   ]
  },
  {
   "cell_type": "code",
   "execution_count": 89,
   "metadata": {},
   "outputs": [
    {
     "ename": "NameError",
     "evalue": "name 'filtrados' is not defined",
     "output_type": "error",
     "traceback": [
      "\u001b[1;31m---------------------------------------------------------------------------\u001b[0m",
      "\u001b[1;31mNameError\u001b[0m                                 Traceback (most recent call last)",
      "Cell \u001b[1;32mIn[89], line 1\u001b[0m\n\u001b[1;32m----> 1\u001b[0m empresas \u001b[39m=\u001b[39m \u001b[39mlist\u001b[39m(filtrados[\u001b[39m'\u001b[39m\u001b[39mCD_CVM\u001b[39m\u001b[39m'\u001b[39m])\n",
      "\u001b[1;31mNameError\u001b[0m: name 'filtrados' is not defined"
     ]
    }
   ],
   "source": [
    "empresas = list(filtrados['CD_CVM'])"
   ]
  },
  {
   "cell_type": "code",
   "execution_count": 91,
   "metadata": {},
   "outputs": [],
   "source": [
    "lista_cnpjs = ['05.878.397/0001-32','08.294.224/0001-65','07.816.890/0001-53','51.218.147/0001-93','06.977.751/0001-49'] "
   ]
  },
  {
   "cell_type": "code",
   "execution_count": 92,
   "metadata": {},
   "outputs": [],
   "source": [
    "jhsf = '08.294.224/0001-65'"
   ]
  },
  {
   "cell_type": "code",
   "execution_count": 94,
   "metadata": {},
   "outputs": [],
   "source": [
    "jhsf_data = data[data['CNPJ_CIA']== jhsf]"
   ]
  },
  {
   "cell_type": "code",
   "execution_count": 96,
   "metadata": {},
   "outputs": [],
   "source": [
    "filtrados = data[data['CNPJ_CIA'].isin(lista_cnpjs)]"
   ]
  },
  {
   "cell_type": "code",
   "execution_count": 102,
   "metadata": {},
   "outputs": [
    {
     "data": {
      "text/html": [
       "<div>\n",
       "<style scoped>\n",
       "    .dataframe tbody tr th:only-of-type {\n",
       "        vertical-align: middle;\n",
       "    }\n",
       "\n",
       "    .dataframe tbody tr th {\n",
       "        vertical-align: top;\n",
       "    }\n",
       "\n",
       "    .dataframe thead th {\n",
       "        text-align: right;\n",
       "    }\n",
       "</style>\n",
       "<table border=\"1\" class=\"dataframe\">\n",
       "  <thead>\n",
       "    <tr style=\"text-align: right;\">\n",
       "      <th></th>\n",
       "      <th>CNPJ_CIA</th>\n",
       "      <th>DENOM_SOCIAL</th>\n",
       "      <th>DENOM_COMERC</th>\n",
       "      <th>DT_REG</th>\n",
       "      <th>DT_CONST</th>\n",
       "      <th>DT_CANCEL</th>\n",
       "      <th>MOTIVO_CANCEL</th>\n",
       "      <th>SIT</th>\n",
       "      <th>DT_INI_SIT</th>\n",
       "      <th>CD_CVM</th>\n",
       "      <th>...</th>\n",
       "      <th>UF_RESP</th>\n",
       "      <th>PAIS_RESP</th>\n",
       "      <th>CEP_RESP</th>\n",
       "      <th>DDD_TEL_RESP</th>\n",
       "      <th>TEL_RESP</th>\n",
       "      <th>DDD_FAX_RESP</th>\n",
       "      <th>FAX_RESP</th>\n",
       "      <th>EMAIL_RESP</th>\n",
       "      <th>CNPJ_AUDITOR</th>\n",
       "      <th>AUDITOR</th>\n",
       "    </tr>\n",
       "  </thead>\n",
       "  <tbody>\n",
       "    <tr>\n",
       "      <th>71</th>\n",
       "      <td>05.878.397/0001-32</td>\n",
       "      <td>ALIANSCE SONAE SHOPPING CENTERS S.A.</td>\n",
       "      <td>ALIANSCE SONAE SHOPPING CENTERS S.A.</td>\n",
       "      <td>2011-02-01</td>\n",
       "      <td>2003-07-17</td>\n",
       "      <td></td>\n",
       "      <td></td>\n",
       "      <td>ATIVO</td>\n",
       "      <td>2011-02-01</td>\n",
       "      <td>22357</td>\n",
       "      <td>...</td>\n",
       "      <td>RJ</td>\n",
       "      <td></td>\n",
       "      <td>22431050</td>\n",
       "      <td>21</td>\n",
       "      <td>21767272</td>\n",
       "      <td>21</td>\n",
       "      <td>21767229</td>\n",
       "      <td>ri@alianscesonae.com.br</td>\n",
       "      <td>61.366.936/0001-25</td>\n",
       "      <td>ERNST &amp; YOUNG AUDITORES INDEPENDENTES S/S LTDA.</td>\n",
       "    </tr>\n",
       "    <tr>\n",
       "      <th>72</th>\n",
       "      <td>05.878.397/0001-32</td>\n",
       "      <td>ALIANSCE SONAE SHOPPING CENTERS S.A.</td>\n",
       "      <td>ALIANSCE SONAE SHOPPING CENTERS S.A.</td>\n",
       "      <td>2011-02-01</td>\n",
       "      <td>2003-07-17</td>\n",
       "      <td></td>\n",
       "      <td></td>\n",
       "      <td>ATIVO</td>\n",
       "      <td>2011-02-01</td>\n",
       "      <td>22357</td>\n",
       "      <td>...</td>\n",
       "      <td>RJ</td>\n",
       "      <td></td>\n",
       "      <td>22431050</td>\n",
       "      <td>21</td>\n",
       "      <td>21767272</td>\n",
       "      <td>21</td>\n",
       "      <td>21767229</td>\n",
       "      <td>ri@alianscesonae.com.br</td>\n",
       "      <td>61.366.936/0001-25</td>\n",
       "      <td>ERNST &amp; YOUNG AUDITORES INDEPENDENTES S/S LTDA.</td>\n",
       "    </tr>\n",
       "    <tr>\n",
       "      <th>380</th>\n",
       "      <td>06.977.751/0001-49</td>\n",
       "      <td>BR PROPERTIES S.A.</td>\n",
       "      <td>BR PROPERTIES S.A.</td>\n",
       "      <td>2006-01-04</td>\n",
       "      <td>2004-05-26</td>\n",
       "      <td></td>\n",
       "      <td></td>\n",
       "      <td>ATIVO</td>\n",
       "      <td>2006-01-04</td>\n",
       "      <td>19925</td>\n",
       "      <td>...</td>\n",
       "      <td>SP</td>\n",
       "      <td></td>\n",
       "      <td>4578000</td>\n",
       "      <td>11</td>\n",
       "      <td>32011000</td>\n",
       "      <td>11</td>\n",
       "      <td>32011001</td>\n",
       "      <td>ri@brpr.com.br</td>\n",
       "      <td>57.755.217/0001-29</td>\n",
       "      <td>KPMG AUDITORES INDEPENDENTES LTDA.</td>\n",
       "    </tr>\n",
       "    <tr>\n",
       "      <th>381</th>\n",
       "      <td>06.977.751/0001-49</td>\n",
       "      <td>BR PROPERTIES S.A.</td>\n",
       "      <td>BR PROPERTIES S.A.</td>\n",
       "      <td>2006-01-04</td>\n",
       "      <td>2004-05-26</td>\n",
       "      <td></td>\n",
       "      <td></td>\n",
       "      <td>ATIVO</td>\n",
       "      <td>2006-01-04</td>\n",
       "      <td>19925</td>\n",
       "      <td>...</td>\n",
       "      <td>SP</td>\n",
       "      <td></td>\n",
       "      <td>4578000</td>\n",
       "      <td>11</td>\n",
       "      <td>32011000</td>\n",
       "      <td>11</td>\n",
       "      <td>32011001</td>\n",
       "      <td>ri@brpr.com.br</td>\n",
       "      <td>57.755.217/0001-29</td>\n",
       "      <td>KPMG AUDITORES INDEPENDENTES LTDA.</td>\n",
       "    </tr>\n",
       "    <tr>\n",
       "      <th>1337</th>\n",
       "      <td>51.218.147/0001-93</td>\n",
       "      <td>IGUATEMI EMPRESA DE SHOPPING CENTERS S/A</td>\n",
       "      <td>IGUATEMI EMPRESA DE SHOPPING CENTERS S/A</td>\n",
       "      <td>2007-02-02</td>\n",
       "      <td>1979-05-23</td>\n",
       "      <td></td>\n",
       "      <td></td>\n",
       "      <td>ATIVO</td>\n",
       "      <td>2007-02-02</td>\n",
       "      <td>20494</td>\n",
       "      <td>...</td>\n",
       "      <td>RJ</td>\n",
       "      <td></td>\n",
       "      <td>1455070</td>\n",
       "      <td>11</td>\n",
       "      <td>30377037</td>\n",
       "      <td>0</td>\n",
       "      <td>0</td>\n",
       "      <td>ri@iguatemi.com.br</td>\n",
       "      <td>49.928.567/0001-11</td>\n",
       "      <td>DELOITTE TOUCHE TOHMATSU AUDITORES INDEPENDENT...</td>\n",
       "    </tr>\n",
       "  </tbody>\n",
       "</table>\n",
       "<p>5 rows × 47 columns</p>\n",
       "</div>"
      ],
      "text/plain": [
       "                CNPJ_CIA                              DENOM_SOCIAL  \\\n",
       "71    05.878.397/0001-32      ALIANSCE SONAE SHOPPING CENTERS S.A.   \n",
       "72    05.878.397/0001-32      ALIANSCE SONAE SHOPPING CENTERS S.A.   \n",
       "380   06.977.751/0001-49                        BR PROPERTIES S.A.   \n",
       "381   06.977.751/0001-49                        BR PROPERTIES S.A.   \n",
       "1337  51.218.147/0001-93  IGUATEMI EMPRESA DE SHOPPING CENTERS S/A   \n",
       "\n",
       "                                  DENOM_COMERC      DT_REG    DT_CONST  \\\n",
       "71        ALIANSCE SONAE SHOPPING CENTERS S.A.  2011-02-01  2003-07-17   \n",
       "72        ALIANSCE SONAE SHOPPING CENTERS S.A.  2011-02-01  2003-07-17   \n",
       "380                         BR PROPERTIES S.A.  2006-01-04  2004-05-26   \n",
       "381                         BR PROPERTIES S.A.  2006-01-04  2004-05-26   \n",
       "1337  IGUATEMI EMPRESA DE SHOPPING CENTERS S/A  2007-02-02  1979-05-23   \n",
       "\n",
       "     DT_CANCEL MOTIVO_CANCEL    SIT  DT_INI_SIT CD_CVM  ... UF_RESP PAIS_RESP  \\\n",
       "71                            ATIVO  2011-02-01  22357  ...      RJ             \n",
       "72                            ATIVO  2011-02-01  22357  ...      RJ             \n",
       "380                           ATIVO  2006-01-04  19925  ...      SP             \n",
       "381                           ATIVO  2006-01-04  19925  ...      SP             \n",
       "1337                          ATIVO  2007-02-02  20494  ...      RJ             \n",
       "\n",
       "      CEP_RESP DDD_TEL_RESP  TEL_RESP DDD_FAX_RESP  FAX_RESP  \\\n",
       "71    22431050           21  21767272           21  21767229   \n",
       "72    22431050           21  21767272           21  21767229   \n",
       "380    4578000           11  32011000           11  32011001   \n",
       "381    4578000           11  32011000           11  32011001   \n",
       "1337   1455070           11  30377037            0         0   \n",
       "\n",
       "                   EMAIL_RESP        CNPJ_AUDITOR  \\\n",
       "71    ri@alianscesonae.com.br  61.366.936/0001-25   \n",
       "72    ri@alianscesonae.com.br  61.366.936/0001-25   \n",
       "380            ri@brpr.com.br  57.755.217/0001-29   \n",
       "381            ri@brpr.com.br  57.755.217/0001-29   \n",
       "1337       ri@iguatemi.com.br  49.928.567/0001-11   \n",
       "\n",
       "                                                AUDITOR  \n",
       "71      ERNST & YOUNG AUDITORES INDEPENDENTES S/S LTDA.  \n",
       "72      ERNST & YOUNG AUDITORES INDEPENDENTES S/S LTDA.  \n",
       "380                  KPMG AUDITORES INDEPENDENTES LTDA.  \n",
       "381                  KPMG AUDITORES INDEPENDENTES LTDA.  \n",
       "1337  DELOITTE TOUCHE TOHMATSU AUDITORES INDEPENDENT...  \n",
       "\n",
       "[5 rows x 47 columns]"
      ]
     },
     "execution_count": 102,
     "metadata": {},
     "output_type": "execute_result"
    }
   ],
   "source": [
    "filtrados.head()"
   ]
  },
  {
   "cell_type": "code",
   "execution_count": 117,
   "metadata": {},
   "outputs": [],
   "source": [
    "empresas =list(filtrados['CD_CVM'])"
   ]
  },
  {
   "cell_type": "code",
   "execution_count": 118,
   "metadata": {},
   "outputs": [
    {
     "data": {
      "text/plain": [
       "['22357', '22357', '19925', '19925', '20494', '20605', '20982', '20982']"
      ]
     },
     "execution_count": 118,
     "metadata": {},
     "output_type": "execute_result"
    }
   ],
   "source": [
    "empresas"
   ]
  },
  {
   "cell_type": "code",
   "execution_count": 81,
   "metadata": {},
   "outputs": [
    {
     "data": {
      "text/plain": [
       "array(['2022-03-31', '2022-06-30', '2022-09-30', '2022-12-31',\n",
       "       '2022-05-31', '2022-08-31', '2022-11-30'], dtype=object)"
      ]
     },
     "execution_count": 81,
     "metadata": {},
     "output_type": "execute_result"
    }
   ],
   "source": [
    "df.DT_REFER.unique()"
   ]
  },
  {
   "attachments": {},
   "cell_type": "markdown",
   "metadata": {},
   "source": [
    "Inicio da construção do loop\n",
    "\n",
    "Vamos criar um lopp que vai fazer a captura de vários demonstrativos de uma vez, e depois filtrar empresas especificas\n",
    "quando isso for terminado, ele vai gerar um excel por empresa, onde cada aba será um demonstrativo diferente\n",
    "\n",
    "O usuario terá apenas que passar uma lista de empresas que deseja e também uma lista com demonstrativos. "
   ]
  },
  {
   "cell_type": "code",
   "execution_count": 82,
   "metadata": {},
   "outputs": [],
   "source": [
    "demonstrativos = ['DFC_MD', 'DFC_MI', 'BPA', 'DRE']"
   ]
  },
  {
   "cell_type": "code",
   "execution_count": 127,
   "metadata": {},
   "outputs": [
    {
     "name": "stdout",
     "output_type": "stream",
     "text": [
      "Trabalhando com a empresa 22357 e seu demonstrativo DFC_MD. As dimensão são (0, 16)\n",
      "Trabalhando com a empresa 22357 e seu demonstrativo DFC_MI. As dimensão são (430, 16)\n",
      "Trabalhando com a empresa 22357 e seu demonstrativo BPA. As dimensão são (420, 15)\n",
      "Trabalhando com a empresa 22357 e seu demonstrativo DRE. As dimensão são (300, 16)\n",
      "Trabalhando com a empresa 22357 e seu demonstrativo DFC_MD. As dimensão são (0, 16)\n",
      "Trabalhando com a empresa 22357 e seu demonstrativo DFC_MI. As dimensão são (430, 16)\n",
      "Trabalhando com a empresa 22357 e seu demonstrativo BPA. As dimensão são (420, 15)\n",
      "Trabalhando com a empresa 22357 e seu demonstrativo DRE. As dimensão são (300, 16)\n",
      "Trabalhando com a empresa 19925 e seu demonstrativo DFC_MD. As dimensão são (0, 16)\n",
      "Trabalhando com a empresa 19925 e seu demonstrativo DFC_MI. As dimensão são (392, 16)\n",
      "Trabalhando com a empresa 19925 e seu demonstrativo BPA. As dimensão são (394, 15)\n",
      "Trabalhando com a empresa 19925 e seu demonstrativo DRE. As dimensão são (386, 16)\n",
      "Trabalhando com a empresa 19925 e seu demonstrativo DFC_MD. As dimensão são (0, 16)\n",
      "Trabalhando com a empresa 19925 e seu demonstrativo DFC_MI. As dimensão são (392, 16)\n",
      "Trabalhando com a empresa 19925 e seu demonstrativo BPA. As dimensão são (394, 15)\n",
      "Trabalhando com a empresa 19925 e seu demonstrativo DRE. As dimensão são (386, 16)\n",
      "Trabalhando com a empresa 20494 e seu demonstrativo DFC_MD. As dimensão são (0, 16)\n",
      "Trabalhando com a empresa 20494 e seu demonstrativo DFC_MI. As dimensão são (308, 16)\n",
      "Trabalhando com a empresa 20494 e seu demonstrativo BPA. As dimensão são (408, 15)\n",
      "Trabalhando com a empresa 20494 e seu demonstrativo DRE. As dimensão são (332, 16)\n",
      "Trabalhando com a empresa 20605 e seu demonstrativo DFC_MD. As dimensão são (0, 16)\n",
      "Trabalhando com a empresa 20605 e seu demonstrativo DFC_MI. As dimensão são (276, 16)\n",
      "Trabalhando com a empresa 20605 e seu demonstrativo BPA. As dimensão são (390, 15)\n",
      "Trabalhando com a empresa 20605 e seu demonstrativo DRE. As dimensão são (420, 16)\n",
      "Trabalhando com a empresa 20982 e seu demonstrativo DFC_MD. As dimensão são (0, 16)\n",
      "Trabalhando com a empresa 20982 e seu demonstrativo DFC_MI. As dimensão são (364, 16)\n",
      "Trabalhando com a empresa 20982 e seu demonstrativo BPA. As dimensão são (390, 15)\n",
      "Trabalhando com a empresa 20982 e seu demonstrativo DRE. As dimensão são (374, 16)\n",
      "Trabalhando com a empresa 20982 e seu demonstrativo DFC_MD. As dimensão são (0, 16)\n",
      "Trabalhando com a empresa 20982 e seu demonstrativo DFC_MI. As dimensão são (364, 16)\n",
      "Trabalhando com a empresa 20982 e seu demonstrativo BPA. As dimensão são (390, 15)\n",
      "Trabalhando com a empresa 20982 e seu demonstrativo DRE. As dimensão são (374, 16)\n"
     ]
    }
   ],
   "source": [
    "lista_listas = []\n",
    "\n",
    "for j in empresas:\n",
    "\n",
    "    lista_df = []\n",
    "\n",
    "    for k in demonstrativos:\n",
    "\n",
    "        link = 'https://dados.cvm.gov.br/dados/CIA_ABERTA/DOC/ITR/DADOS/itr_cia_aberta_2022.zip'\n",
    "\n",
    "        arquivo_zip = requests.get(link)\n",
    "\n",
    "        zf = zipfile.ZipFile(io.BytesIO(arquivo_zip.content))\n",
    "\n",
    "        arquivo = 'itr_cia_aberta_' + str(k) + '_con_2022.csv'\n",
    "\n",
    "        dados = zf.open(arquivo)\n",
    "\n",
    "        linhas = dados.readlines()\n",
    "\n",
    "        lines =[i.strip().decode('ISO-8859-1') for i in linhas]\n",
    "\n",
    "        lines =[i.split(';') for i in lines]\n",
    "\n",
    "        df = pd.DataFrame(lines[1:], columns= lines[0])\n",
    "\n",
    "        df['VL_AJUSTADO'] = pd.to_numeric(df['VL_CONTA'])\n",
    "\n",
    "        filtro =df[df['CD_CVM'] == '0' + str(j)]\n",
    "\n",
    "        lista_df.append(filtro)\n",
    "\n",
    "        print(f'Trabalhando com a empresa {j} e seu demonstrativo {k}. As dimensão são {filtro.shape}')\n",
    "\n",
    "\n",
    "lista_listas.append(lista_df)\n",
    "\n",
    "\n",
    "\n",
    "\n",
    "\n",
    "\n"
   ]
  },
  {
   "cell_type": "code",
   "execution_count": 130,
   "metadata": {},
   "outputs": [
    {
     "data": {
      "text/html": [
       "<div>\n",
       "<style scoped>\n",
       "    .dataframe tbody tr th:only-of-type {\n",
       "        vertical-align: middle;\n",
       "    }\n",
       "\n",
       "    .dataframe tbody tr th {\n",
       "        vertical-align: top;\n",
       "    }\n",
       "\n",
       "    .dataframe thead th {\n",
       "        text-align: right;\n",
       "    }\n",
       "</style>\n",
       "<table border=\"1\" class=\"dataframe\">\n",
       "  <thead>\n",
       "    <tr style=\"text-align: right;\">\n",
       "      <th></th>\n",
       "      <th>CNPJ_CIA</th>\n",
       "      <th>DT_REFER</th>\n",
       "      <th>VERSAO</th>\n",
       "      <th>DENOM_CIA</th>\n",
       "      <th>CD_CVM</th>\n",
       "      <th>GRUPO_DFP</th>\n",
       "      <th>MOEDA</th>\n",
       "      <th>ESCALA_MOEDA</th>\n",
       "      <th>ORDEM_EXERC</th>\n",
       "      <th>DT_INI_EXERC</th>\n",
       "      <th>DT_FIM_EXERC</th>\n",
       "      <th>CD_CONTA</th>\n",
       "      <th>DS_CONTA</th>\n",
       "      <th>VL_CONTA</th>\n",
       "      <th>ST_CONTA_FIXA</th>\n",
       "      <th>VL_AJUSTADO</th>\n",
       "    </tr>\n",
       "  </thead>\n",
       "  <tbody>\n",
       "    <tr>\n",
       "      <th>30886</th>\n",
       "      <td>07.816.890/0001-53</td>\n",
       "      <td>2022-03-31</td>\n",
       "      <td>2</td>\n",
       "      <td>MULTIPLAN - EMPREEND IMOBILIARIOS S.A.</td>\n",
       "      <td>020982</td>\n",
       "      <td>DF Consolidado - Demonstração do Fluxo de Caix...</td>\n",
       "      <td>REAL</td>\n",
       "      <td>MIL</td>\n",
       "      <td>PENÚLTIMO</td>\n",
       "      <td>2021-01-01</td>\n",
       "      <td>2021-03-31</td>\n",
       "      <td>6.01</td>\n",
       "      <td>Caixa Líquido Atividades Operacionais</td>\n",
       "      <td>96150.0000000000</td>\n",
       "      <td>S</td>\n",
       "      <td>96150.0</td>\n",
       "    </tr>\n",
       "    <tr>\n",
       "      <th>30887</th>\n",
       "      <td>07.816.890/0001-53</td>\n",
       "      <td>2022-03-31</td>\n",
       "      <td>2</td>\n",
       "      <td>MULTIPLAN - EMPREEND IMOBILIARIOS S.A.</td>\n",
       "      <td>020982</td>\n",
       "      <td>DF Consolidado - Demonstração do Fluxo de Caix...</td>\n",
       "      <td>REAL</td>\n",
       "      <td>MIL</td>\n",
       "      <td>ÚLTIMO</td>\n",
       "      <td>2022-01-01</td>\n",
       "      <td>2022-03-31</td>\n",
       "      <td>6.01</td>\n",
       "      <td>Caixa Líquido Atividades Operacionais</td>\n",
       "      <td>319827.0000000000</td>\n",
       "      <td>S</td>\n",
       "      <td>319827.0</td>\n",
       "    </tr>\n",
       "    <tr>\n",
       "      <th>30888</th>\n",
       "      <td>07.816.890/0001-53</td>\n",
       "      <td>2022-03-31</td>\n",
       "      <td>2</td>\n",
       "      <td>MULTIPLAN - EMPREEND IMOBILIARIOS S.A.</td>\n",
       "      <td>020982</td>\n",
       "      <td>DF Consolidado - Demonstração do Fluxo de Caix...</td>\n",
       "      <td>REAL</td>\n",
       "      <td>MIL</td>\n",
       "      <td>PENÚLTIMO</td>\n",
       "      <td>2021-01-01</td>\n",
       "      <td>2021-03-31</td>\n",
       "      <td>6.01.01</td>\n",
       "      <td>Caixa Gerado nas Operações</td>\n",
       "      <td>145249.0000000000</td>\n",
       "      <td>S</td>\n",
       "      <td>145249.0</td>\n",
       "    </tr>\n",
       "    <tr>\n",
       "      <th>30889</th>\n",
       "      <td>07.816.890/0001-53</td>\n",
       "      <td>2022-03-31</td>\n",
       "      <td>2</td>\n",
       "      <td>MULTIPLAN - EMPREEND IMOBILIARIOS S.A.</td>\n",
       "      <td>020982</td>\n",
       "      <td>DF Consolidado - Demonstração do Fluxo de Caix...</td>\n",
       "      <td>REAL</td>\n",
       "      <td>MIL</td>\n",
       "      <td>ÚLTIMO</td>\n",
       "      <td>2022-01-01</td>\n",
       "      <td>2022-03-31</td>\n",
       "      <td>6.01.01</td>\n",
       "      <td>Caixa Gerado nas Operações</td>\n",
       "      <td>341046.0000000000</td>\n",
       "      <td>S</td>\n",
       "      <td>341046.0</td>\n",
       "    </tr>\n",
       "    <tr>\n",
       "      <th>30890</th>\n",
       "      <td>07.816.890/0001-53</td>\n",
       "      <td>2022-03-31</td>\n",
       "      <td>2</td>\n",
       "      <td>MULTIPLAN - EMPREEND IMOBILIARIOS S.A.</td>\n",
       "      <td>020982</td>\n",
       "      <td>DF Consolidado - Demonstração do Fluxo de Caix...</td>\n",
       "      <td>REAL</td>\n",
       "      <td>MIL</td>\n",
       "      <td>PENÚLTIMO</td>\n",
       "      <td>2021-01-01</td>\n",
       "      <td>2021-03-31</td>\n",
       "      <td>6.01.01.01</td>\n",
       "      <td>Lucro antes dos impostos</td>\n",
       "      <td>69732.0000000000</td>\n",
       "      <td>N</td>\n",
       "      <td>69732.0</td>\n",
       "    </tr>\n",
       "  </tbody>\n",
       "</table>\n",
       "</div>"
      ],
      "text/plain": [
       "                 CNPJ_CIA    DT_REFER VERSAO  \\\n",
       "30886  07.816.890/0001-53  2022-03-31      2   \n",
       "30887  07.816.890/0001-53  2022-03-31      2   \n",
       "30888  07.816.890/0001-53  2022-03-31      2   \n",
       "30889  07.816.890/0001-53  2022-03-31      2   \n",
       "30890  07.816.890/0001-53  2022-03-31      2   \n",
       "\n",
       "                                    DENOM_CIA  CD_CVM  \\\n",
       "30886  MULTIPLAN - EMPREEND IMOBILIARIOS S.A.  020982   \n",
       "30887  MULTIPLAN - EMPREEND IMOBILIARIOS S.A.  020982   \n",
       "30888  MULTIPLAN - EMPREEND IMOBILIARIOS S.A.  020982   \n",
       "30889  MULTIPLAN - EMPREEND IMOBILIARIOS S.A.  020982   \n",
       "30890  MULTIPLAN - EMPREEND IMOBILIARIOS S.A.  020982   \n",
       "\n",
       "                                               GRUPO_DFP MOEDA ESCALA_MOEDA  \\\n",
       "30886  DF Consolidado - Demonstração do Fluxo de Caix...  REAL          MIL   \n",
       "30887  DF Consolidado - Demonstração do Fluxo de Caix...  REAL          MIL   \n",
       "30888  DF Consolidado - Demonstração do Fluxo de Caix...  REAL          MIL   \n",
       "30889  DF Consolidado - Demonstração do Fluxo de Caix...  REAL          MIL   \n",
       "30890  DF Consolidado - Demonstração do Fluxo de Caix...  REAL          MIL   \n",
       "\n",
       "      ORDEM_EXERC DT_INI_EXERC DT_FIM_EXERC    CD_CONTA  \\\n",
       "30886   PENÚLTIMO   2021-01-01   2021-03-31        6.01   \n",
       "30887      ÚLTIMO   2022-01-01   2022-03-31        6.01   \n",
       "30888   PENÚLTIMO   2021-01-01   2021-03-31     6.01.01   \n",
       "30889      ÚLTIMO   2022-01-01   2022-03-31     6.01.01   \n",
       "30890   PENÚLTIMO   2021-01-01   2021-03-31  6.01.01.01   \n",
       "\n",
       "                                    DS_CONTA           VL_CONTA ST_CONTA_FIXA  \\\n",
       "30886  Caixa Líquido Atividades Operacionais   96150.0000000000             S   \n",
       "30887  Caixa Líquido Atividades Operacionais  319827.0000000000             S   \n",
       "30888             Caixa Gerado nas Operações  145249.0000000000             S   \n",
       "30889             Caixa Gerado nas Operações  341046.0000000000             S   \n",
       "30890               Lucro antes dos impostos   69732.0000000000             N   \n",
       "\n",
       "       VL_AJUSTADO  \n",
       "30886      96150.0  \n",
       "30887     319827.0  \n",
       "30888     145249.0  \n",
       "30889     341046.0  \n",
       "30890      69732.0  "
      ]
     },
     "execution_count": 130,
     "metadata": {},
     "output_type": "execute_result"
    }
   ],
   "source": [
    "lista_listas[0][1].head()"
   ]
  },
  {
   "cell_type": "code",
   "execution_count": null,
   "metadata": {},
   "outputs": [],
   "source": []
  },
  {
   "cell_type": "code",
   "execution_count": null,
   "metadata": {},
   "outputs": [],
   "source": []
  },
  {
   "cell_type": "code",
   "execution_count": null,
   "metadata": {},
   "outputs": [],
   "source": []
  },
  {
   "cell_type": "code",
   "execution_count": null,
   "metadata": {},
   "outputs": [],
   "source": []
  },
  {
   "cell_type": "code",
   "execution_count": null,
   "metadata": {},
   "outputs": [],
   "source": []
  },
  {
   "cell_type": "code",
   "execution_count": null,
   "metadata": {},
   "outputs": [],
   "source": []
  },
  {
   "cell_type": "code",
   "execution_count": null,
   "metadata": {},
   "outputs": [],
   "source": []
  },
  {
   "cell_type": "code",
   "execution_count": null,
   "metadata": {},
   "outputs": [],
   "source": []
  },
  {
   "cell_type": "code",
   "execution_count": null,
   "metadata": {},
   "outputs": [],
   "source": []
  },
  {
   "cell_type": "code",
   "execution_count": null,
   "metadata": {},
   "outputs": [],
   "source": []
  },
  {
   "cell_type": "code",
   "execution_count": null,
   "metadata": {},
   "outputs": [],
   "source": []
  },
  {
   "cell_type": "code",
   "execution_count": null,
   "metadata": {},
   "outputs": [],
   "source": []
  },
  {
   "cell_type": "code",
   "execution_count": null,
   "metadata": {},
   "outputs": [],
   "source": []
  },
  {
   "cell_type": "code",
   "execution_count": null,
   "metadata": {},
   "outputs": [],
   "source": []
  },
  {
   "cell_type": "code",
   "execution_count": null,
   "metadata": {},
   "outputs": [],
   "source": []
  },
  {
   "cell_type": "code",
   "execution_count": null,
   "metadata": {},
   "outputs": [],
   "source": []
  },
  {
   "cell_type": "code",
   "execution_count": null,
   "metadata": {},
   "outputs": [],
   "source": []
  },
  {
   "cell_type": "code",
   "execution_count": null,
   "metadata": {},
   "outputs": [],
   "source": []
  },
  {
   "cell_type": "code",
   "execution_count": null,
   "metadata": {},
   "outputs": [],
   "source": []
  },
  {
   "cell_type": "code",
   "execution_count": null,
   "metadata": {},
   "outputs": [],
   "source": []
  },
  {
   "cell_type": "code",
   "execution_count": null,
   "metadata": {},
   "outputs": [],
   "source": []
  },
  {
   "cell_type": "code",
   "execution_count": null,
   "metadata": {},
   "outputs": [],
   "source": []
  },
  {
   "cell_type": "code",
   "execution_count": null,
   "metadata": {},
   "outputs": [],
   "source": []
  },
  {
   "cell_type": "code",
   "execution_count": null,
   "metadata": {},
   "outputs": [],
   "source": []
  },
  {
   "cell_type": "code",
   "execution_count": null,
   "metadata": {},
   "outputs": [],
   "source": []
  },
  {
   "cell_type": "code",
   "execution_count": null,
   "metadata": {},
   "outputs": [],
   "source": []
  },
  {
   "cell_type": "code",
   "execution_count": null,
   "metadata": {},
   "outputs": [],
   "source": []
  },
  {
   "cell_type": "code",
   "execution_count": null,
   "metadata": {},
   "outputs": [],
   "source": []
  },
  {
   "cell_type": "code",
   "execution_count": null,
   "metadata": {},
   "outputs": [],
   "source": []
  },
  {
   "cell_type": "code",
   "execution_count": null,
   "metadata": {},
   "outputs": [],
   "source": []
  },
  {
   "cell_type": "code",
   "execution_count": null,
   "metadata": {},
   "outputs": [],
   "source": []
  },
  {
   "cell_type": "code",
   "execution_count": null,
   "metadata": {},
   "outputs": [],
   "source": []
  },
  {
   "cell_type": "code",
   "execution_count": null,
   "metadata": {},
   "outputs": [],
   "source": []
  },
  {
   "cell_type": "code",
   "execution_count": null,
   "metadata": {},
   "outputs": [],
   "source": []
  },
  {
   "cell_type": "code",
   "execution_count": null,
   "metadata": {},
   "outputs": [],
   "source": []
  },
  {
   "cell_type": "code",
   "execution_count": null,
   "metadata": {},
   "outputs": [],
   "source": []
  },
  {
   "cell_type": "code",
   "execution_count": null,
   "metadata": {},
   "outputs": [],
   "source": []
  },
  {
   "cell_type": "code",
   "execution_count": null,
   "metadata": {},
   "outputs": [],
   "source": []
  },
  {
   "cell_type": "code",
   "execution_count": null,
   "metadata": {},
   "outputs": [],
   "source": []
  },
  {
   "cell_type": "code",
   "execution_count": null,
   "metadata": {},
   "outputs": [],
   "source": []
  },
  {
   "cell_type": "code",
   "execution_count": null,
   "metadata": {},
   "outputs": [],
   "source": []
  },
  {
   "cell_type": "code",
   "execution_count": null,
   "metadata": {},
   "outputs": [],
   "source": []
  },
  {
   "cell_type": "code",
   "execution_count": null,
   "metadata": {},
   "outputs": [],
   "source": []
  },
  {
   "cell_type": "code",
   "execution_count": null,
   "metadata": {},
   "outputs": [],
   "source": []
  },
  {
   "cell_type": "code",
   "execution_count": null,
   "metadata": {},
   "outputs": [],
   "source": []
  },
  {
   "cell_type": "code",
   "execution_count": null,
   "metadata": {},
   "outputs": [],
   "source": []
  },
  {
   "cell_type": "code",
   "execution_count": null,
   "metadata": {},
   "outputs": [],
   "source": []
  },
  {
   "cell_type": "code",
   "execution_count": null,
   "metadata": {},
   "outputs": [],
   "source": []
  },
  {
   "cell_type": "code",
   "execution_count": null,
   "metadata": {},
   "outputs": [],
   "source": []
  },
  {
   "cell_type": "code",
   "execution_count": null,
   "metadata": {},
   "outputs": [],
   "source": []
  },
  {
   "cell_type": "code",
   "execution_count": null,
   "metadata": {},
   "outputs": [],
   "source": []
  },
  {
   "cell_type": "code",
   "execution_count": null,
   "metadata": {},
   "outputs": [],
   "source": []
  },
  {
   "cell_type": "code",
   "execution_count": null,
   "metadata": {},
   "outputs": [],
   "source": []
  },
  {
   "cell_type": "code",
   "execution_count": null,
   "metadata": {},
   "outputs": [],
   "source": []
  },
  {
   "cell_type": "code",
   "execution_count": null,
   "metadata": {},
   "outputs": [],
   "source": []
  },
  {
   "cell_type": "code",
   "execution_count": null,
   "metadata": {},
   "outputs": [],
   "source": []
  },
  {
   "cell_type": "code",
   "execution_count": null,
   "metadata": {},
   "outputs": [],
   "source": []
  },
  {
   "cell_type": "code",
   "execution_count": null,
   "metadata": {},
   "outputs": [],
   "source": []
  },
  {
   "cell_type": "code",
   "execution_count": null,
   "metadata": {},
   "outputs": [],
   "source": []
  },
  {
   "cell_type": "code",
   "execution_count": null,
   "metadata": {},
   "outputs": [],
   "source": []
  },
  {
   "cell_type": "code",
   "execution_count": null,
   "metadata": {},
   "outputs": [],
   "source": []
  },
  {
   "cell_type": "code",
   "execution_count": null,
   "metadata": {},
   "outputs": [],
   "source": []
  },
  {
   "cell_type": "code",
   "execution_count": null,
   "metadata": {},
   "outputs": [],
   "source": []
  },
  {
   "cell_type": "code",
   "execution_count": null,
   "metadata": {},
   "outputs": [],
   "source": []
  },
  {
   "cell_type": "code",
   "execution_count": null,
   "metadata": {},
   "outputs": [],
   "source": []
  },
  {
   "cell_type": "code",
   "execution_count": null,
   "metadata": {},
   "outputs": [],
   "source": []
  },
  {
   "cell_type": "code",
   "execution_count": null,
   "metadata": {},
   "outputs": [],
   "source": []
  },
  {
   "cell_type": "code",
   "execution_count": null,
   "metadata": {},
   "outputs": [],
   "source": []
  },
  {
   "cell_type": "code",
   "execution_count": null,
   "metadata": {},
   "outputs": [],
   "source": []
  },
  {
   "cell_type": "code",
   "execution_count": null,
   "metadata": {},
   "outputs": [],
   "source": []
  },
  {
   "cell_type": "code",
   "execution_count": null,
   "metadata": {},
   "outputs": [],
   "source": []
  },
  {
   "cell_type": "code",
   "execution_count": null,
   "metadata": {},
   "outputs": [],
   "source": []
  },
  {
   "cell_type": "code",
   "execution_count": null,
   "metadata": {},
   "outputs": [],
   "source": []
  },
  {
   "cell_type": "code",
   "execution_count": null,
   "metadata": {},
   "outputs": [],
   "source": []
  },
  {
   "cell_type": "code",
   "execution_count": null,
   "metadata": {},
   "outputs": [],
   "source": []
  }
 ],
 "metadata": {
  "kernelspec": {
   "display_name": "Python 3",
   "language": "python",
   "name": "python3"
  },
  "language_info": {
   "codemirror_mode": {
    "name": "ipython",
    "version": 3
   },
   "file_extension": ".py",
   "mimetype": "text/x-python",
   "name": "python",
   "nbconvert_exporter": "python",
   "pygments_lexer": "ipython3",
   "version": "3.8.5"
  }
 },
 "nbformat": 4,
 "nbformat_minor": 4
}
