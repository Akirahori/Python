{
  "nbformat": 4,
  "nbformat_minor": 0,
  "metadata": {
    "colab": {
      "name": "Curso Intesivo de Python.ipynb",
      "provenance": [],
      "collapsed_sections": [],
      "toc_visible": true,
      "authorship_tag": "ABX9TyMQLOdMCK8C+P3wRRiBcCfD",
      "include_colab_link": true
    },
    "kernelspec": {
      "name": "python3",
      "display_name": "Python 3"
    },
    "language_info": {
      "name": "python"
    }
  },
  "cells": [
    {
      "cell_type": "markdown",
      "metadata": {
        "id": "view-in-github",
        "colab_type": "text"
      },
      "source": [
        "<a href=\"https://colab.research.google.com/github/Akirahori/Python/blob/main/Curso_Intesivo_de_Python.ipynb\" target=\"_parent\"><img src=\"https://colab.research.google.com/assets/colab-badge.svg\" alt=\"Open In Colab\"/></a>"
      ]
    },
    {
      "cell_type": "markdown",
      "source": [
        "# **CAP.02 - VARIÁVEIS E TIPOS DE DADOS SIMPLES**"
      ],
      "metadata": {
        "id": "bkGBEf1ryHN9"
      }
    },
    {
      "cell_type": "markdown",
      "source": [
        "**Variáveis**: \n",
        "\n",
        "\n",
        "Toda variável armazena um valor, que é a informação associada a essa variável.\n",
        "\n",
        "Espaços não são permitidos em nomes de variáveis, mas underscores\n",
        "podem ser usados para separar palavras em nomes de variáveis. Por\n",
        "exemplo, greeting_message funciona, mas greeting message causará\n",
        "erros.\n",
        "\n",
        "**Nomeando e usando variáveis:**\n",
        "\n",
        "• Evite usar palavras reservadas e nomes de funções em Python como\n",
        "nomes de variáveis, ou seja, não use palavras que Python reservou para\n",
        "um propósito particular de programação, por exemplo, a palavra print.\n",
        "(Veja a seção “Palavras reservadas e funções embutidas de Python”.)\n",
        "\n",
        "\n",
        "• Nomes de variáveis devem ser concisos, porém descritivos. Por\n",
        "exemplo, name é melhor que n, student_name é melhor que s_n e\n",
        "name_length é melhor que length_of_persons_name.\n",
        "\n",
        "\n",
        "• Tome cuidado ao usar a letra minúscula l e a letra maiúscula O, pois\n",
        "elas podem ser confundidas com os números 1 e 0."
      ],
      "metadata": {
        "id": "S1BQ9ibrJBup"
      }
    },
    {
      "cell_type": "code",
      "execution_count": null,
      "metadata": {
        "id": "pZVerjLryAoa"
      },
      "outputs": [],
      "source": [
        "message = 'hello python'\n",
        "print(message)\n",
        "\n",
        "message = 'hello python teste da porra do livro'\n",
        "print(message)\n",
        "\n"
      ]
    },
    {
      "cell_type": "markdown",
      "source": [
        "**STRINGS:**\n",
        "\n",
        "Uma sring é simplesmente uma série de caracteres. Tudo que estiver entre aspas é considerada uma string em python.\n",
        "\n",
        "Essa flexibilidade permite usar aspas e apóstrofos em suas strings:\n",
        "'I told my friend, \"Python is my favorite language!\"'\n",
        "\"The language 'Python' is named after Monty Python, not the snake.\"\n",
        "\n",
        "\n",
        "O método title() aparece depois da variável\n",
        "na instrução print(). Um método é uma ação que Python pode executar em\n",
        "um dado. O ponto (.) após name em name.title() informa a Python que o\n",
        "método title() deve atuar na variável name."
      ],
      "metadata": {
        "id": "Vb7rsNLqM1lz"
      }
    },
    {
      "cell_type": "code",
      "source": [
        "#Mudando para letras maiúsculas e minúsculas em uma string usando métodos\n",
        "\n",
        "name = 'ada lovelace'\n",
        "print(name.title())\n",
        "\n",
        "name = 'ada lovelace'\n",
        "print(name.upper())\n",
        "print(name.lower())"
      ],
      "metadata": {
        "colab": {
          "base_uri": "https://localhost:8080/"
        },
        "id": "IrXcKLbiNmZw",
        "outputId": "439b2ffa-af33-4d33-c527-f176bf0f96ea"
      },
      "execution_count": null,
      "outputs": [
        {
          "output_type": "stream",
          "name": "stdout",
          "text": [
            "Ada Lovelace\n",
            "ADA LOVELACE\n",
            "ada lovelace\n"
          ]
        }
      ]
    },
    {
      "cell_type": "code",
      "source": [
        "#Combinando ou concatenando strings\n",
        "first_name = \"ada\"\n",
        "last_name = \"lovelace\"\n",
        "full_name = first_name + \" \" + last_name\n",
        "\n",
        "print(full_name)"
      ],
      "metadata": {
        "colab": {
          "base_uri": "https://localhost:8080/"
        },
        "id": "Jo11-0LsOuFC",
        "outputId": "44d901a5-073c-4883-d452-802d080c3682"
      },
      "execution_count": null,
      "outputs": [
        {
          "output_type": "stream",
          "name": "stdout",
          "text": [
            "ada lovelace\n"
          ]
        }
      ]
    },
    {
      "cell_type": "code",
      "source": [
        "#Acrescentando espaços em branco em strings com tabulações ou quebras de linha\n",
        "\n",
        "print('languages:\\nPython\\nC\\nJava')"
      ],
      "metadata": {
        "colab": {
          "base_uri": "https://localhost:8080/"
        },
        "id": "foTODAzEPddz",
        "outputId": "dfe862c8-8aac-4e37-f341-259abdc407d0"
      },
      "execution_count": null,
      "outputs": [
        {
          "output_type": "stream",
          "name": "stdout",
          "text": [
            "languages:\n",
            "Python\n",
            "C\n",
            "Java\n"
          ]
        }
      ]
    },
    {
      "cell_type": "code",
      "source": [
        "#Removendo espaços em branco.\n",
        "favorite_language = 'python '\n",
        "favorite_language\n",
        "\n",
        "favorite_language.rstrip()"
      ],
      "metadata": {
        "colab": {
          "base_uri": "https://localhost:8080/",
          "height": 35
        },
        "id": "2upJgzCtP8ia",
        "outputId": "aca705e5-1bd5-4e15-b331-004c7b090178"
      },
      "execution_count": null,
      "outputs": [
        {
          "output_type": "execute_result",
          "data": {
            "text/plain": [
              "'python'"
            ],
            "application/vnd.google.colaboratory.intrinsic+json": {
              "type": "string"
            }
          },
          "metadata": {},
          "execution_count": 12
        }
      ]
    },
    {
      "cell_type": "code",
      "source": [
        "#Evitando erros de sintaxe com strings\n",
        "\n",
        "message = \"One of Python's strengths is its diverse community.\"\n",
        "print(message)\n",
        "\n",
        "message = 'One of Python's strengths is its diverse community.'\n",
        "print(message)"
      ],
      "metadata": {
        "id": "cLY3CpBEQ_DG"
      },
      "execution_count": null,
      "outputs": []
    },
    {
      "cell_type": "code",
      "source": [
        "#Evitando erros de tipo com a função str()\n",
        "\n",
        "age = 23\n",
        "message = \"Happy\" + str(age) + 'rd Birthday'\n",
        "\n",
        "print(message)\n"
      ],
      "metadata": {
        "colab": {
          "base_uri": "https://localhost:8080/"
        },
        "id": "lFhdOb9NR8yX",
        "outputId": "81c93b52-f0a1-448a-8d34-f0fc5b38591c"
      },
      "execution_count": null,
      "outputs": [
        {
          "output_type": "stream",
          "name": "stdout",
          "text": [
            "Happy23rd Birthday\n"
          ]
        }
      ]
    },
    {
      "cell_type": "markdown",
      "source": [
        "# **CAP.03 - Introdução as Listas.**\n"
      ],
      "metadata": {
        "id": "i1jFxt7Yq2GG"
      }
    },
    {
      "cell_type": "code",
      "source": [
        "bicycles = ['trek', 'cannondale', 'redline', 'specialized']\n",
        "print(bicycles)"
      ],
      "metadata": {
        "colab": {
          "base_uri": "https://localhost:8080/"
        },
        "id": "U4gg3wcFq-64",
        "outputId": "aa3ce675-2e21-482b-f9eb-2f8aa1d03725"
      },
      "execution_count": null,
      "outputs": [
        {
          "output_type": "stream",
          "name": "stdout",
          "text": [
            "['trek', 'cannondale', 'redline', 'specialized']\n"
          ]
        }
      ]
    },
    {
      "cell_type": "code",
      "source": [
        "#Acessando elementos de uma lista\n",
        "bicycles = ['trek', 'cannondale', 'redline', 'specialized']\n",
        "print(bicycles[0])\n",
        "\n",
        "bicycles = ['trek', 'cannondale', 'redline', 'specialized']\n",
        "print(bicycles[0].title())"
      ],
      "metadata": {
        "colab": {
          "base_uri": "https://localhost:8080/"
        },
        "id": "oFEBJy2JrUYv",
        "outputId": "398979a2-79be-4cad-b5f9-064affba9b6d"
      },
      "execution_count": null,
      "outputs": [
        {
          "output_type": "stream",
          "name": "stdout",
          "text": [
            "trek\n",
            "Trek\n"
          ]
        }
      ]
    },
    {
      "cell_type": "code",
      "source": [
        "#Usando valores individauis de uma lista\n",
        "bicycles = ['trek', 'cannondale', 'redline', 'specialized']\n",
        "message = \"My first bicycle was a \" + bicycles[0].title() + \".\"\n",
        "print(message)"
      ],
      "metadata": {
        "colab": {
          "base_uri": "https://localhost:8080/"
        },
        "id": "Ulqit9sOtmSY",
        "outputId": "e6d68aa5-0b01-4ee5-8434-08bd3f42ec30"
      },
      "execution_count": null,
      "outputs": [
        {
          "output_type": "stream",
          "name": "stdout",
          "text": [
            "My first bicycle was a Trek.\n"
          ]
        }
      ]
    },
    {
      "cell_type": "code",
      "source": [
        "#Alterando, acrescentando e removendo elementos\n",
        "motorcycles = ['honda', 'yamaha', 'suzuki']\n",
        "print(motorcycles)\n",
        "motorcycles[0] = 'ducati'\n",
        "print(motorcycles)\n",
        "\n",
        "#Acrescentando\n",
        "motorcycles = ['honda', 'yamaha', 'suzuki']\n",
        "motorcycles.append('ducati')\n",
        "print(motorcycles)\n",
        "\n",
        "#Inserindo elementos em uma lista\n",
        "motorcycles = ['honda', 'yamaha', 'suzuki']\n",
        "motorcycles.insert(0, 'ducati')\n",
        "print(motorcycles)\n",
        "\n",
        "#Removendo elementos de uma lista\n",
        "motorcycles = ['honda', 'yamaha', 'suzuki']\n",
        "del motorcycles [0]\n",
        "print(motorcycles)"
      ],
      "metadata": {
        "colab": {
          "base_uri": "https://localhost:8080/"
        },
        "id": "aMt9pDLwtxCF",
        "outputId": "2e2d22af-b95b-465a-8842-b7ee458d6995"
      },
      "execution_count": null,
      "outputs": [
        {
          "output_type": "stream",
          "name": "stdout",
          "text": [
            "['honda', 'yamaha', 'suzuki']\n",
            "['ducati', 'yamaha', 'suzuki']\n",
            "['honda', 'yamaha', 'suzuki', 'ducati']\n",
            "['ducati', 'honda', 'yamaha', 'suzuki']\n",
            "['yamaha', 'suzuki']\n"
          ]
        }
      ]
    },
    {
      "cell_type": "code",
      "source": [
        "#Removendo elementos de uma lista\n",
        "motorcycles = ['honda', 'yamaha', 'suzuki']\n",
        "del motorcycles [0]\n",
        "print(motorcycles)"
      ],
      "metadata": {
        "colab": {
          "base_uri": "https://localhost:8080/"
        },
        "id": "vrzps3aeCPTp",
        "outputId": "03e7232c-22fa-4114-9acd-a34051383a14"
      },
      "execution_count": null,
      "outputs": [
        {
          "output_type": "stream",
          "name": "stdout",
          "text": [
            "['yamaha', 'suzuki']\n"
          ]
        }
      ]
    },
    {
      "cell_type": "code",
      "source": [
        "#Removendo itens de qualquer posição em uma lista\n",
        "motorcycles = ['honda', 'yamaha', 'suzuki']\n",
        "first_owned = motorcycles.pop(0)\n",
        "print('The first motorcycle I owned was a ' + first_owned.title() +'.')"
      ],
      "metadata": {
        "colab": {
          "base_uri": "https://localhost:8080/"
        },
        "id": "v09wg3B8CSQH",
        "outputId": "a051b6b8-2629-479f-a7c7-c605a409735f"
      },
      "execution_count": null,
      "outputs": [
        {
          "output_type": "stream",
          "name": "stdout",
          "text": [
            "The first motorcycle I owned was a Honda.\n"
          ]
        }
      ]
    },
    {
      "cell_type": "code",
      "source": [
        "#Removendo um item de acordo com o valor\n",
        "motorcycles = ['honda', 'yamaha', 'suzuki', 'ducati','ducati']\n",
        "print(motorcycles)\n",
        "\n",
        "motorcycles.remove('ducati')\n",
        "print(motorcycles)\n",
        "\n",
        "#NOTA O método remove() apaga apenas a primeira ocorrência do valor que você especificar. "
      ],
      "metadata": {
        "colab": {
          "base_uri": "https://localhost:8080/"
        },
        "id": "KuI6MvtACSaP",
        "outputId": "80f01b52-794a-4a1d-879e-98497eb582ea"
      },
      "execution_count": null,
      "outputs": [
        {
          "output_type": "stream",
          "name": "stdout",
          "text": [
            "['honda', 'yamaha', 'suzuki', 'ducati', 'ducati']\n",
            "['honda', 'yamaha', 'suzuki', 'ducati']\n"
          ]
        }
      ]
    },
    {
      "cell_type": "code",
      "source": [
        "#Organizando uma lista\n",
        "cars = ['mitsubishi','nissan','toyota','honda','subaru']\n",
        "cars.sort()\n",
        "print(cars)\n",
        "\n",
        "#Também podemos ordernas essa lista inversamente.\n",
        "cars = ['mitsubishi','nissan','toyota','honda','subaru']\n",
        "cars.sort(reverse=True)\n",
        "print(cars)"
      ],
      "metadata": {
        "id": "NE8iAB16CSi-",
        "colab": {
          "base_uri": "https://localhost:8080/"
        },
        "outputId": "b08fe277-b3c9-4c46-b3b5-330108d1e22c"
      },
      "execution_count": 3,
      "outputs": [
        {
          "output_type": "stream",
          "name": "stdout",
          "text": [
            "['honda', 'mitsubishi', 'nissan', 'subaru', 'toyota']\n",
            "['toyota', 'subaru', 'nissan', 'mitsubishi', 'honda']\n"
          ]
        }
      ]
    }
  ]
}