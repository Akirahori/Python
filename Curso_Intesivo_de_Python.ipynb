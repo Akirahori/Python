{
  "nbformat": 4,
  "nbformat_minor": 0,
  "metadata": {
    "colab": {
      "provenance": [],
      "collapsed_sections": [
        "bkGBEf1ryHN9"
      ],
      "toc_visible": true,
      "authorship_tag": "ABX9TyMPdjeLyMbUgpnKbn96SPKb",
      "include_colab_link": true
    },
    "kernelspec": {
      "name": "python3",
      "display_name": "Python 3"
    },
    "language_info": {
      "name": "python"
    }
  },
  "cells": [
    {
      "cell_type": "markdown",
      "metadata": {
        "id": "view-in-github",
        "colab_type": "text"
      },
      "source": [
        "<a href=\"https://colab.research.google.com/github/Akirahori/Python/blob/main/Curso_Intesivo_de_Python.ipynb\" target=\"_parent\"><img src=\"https://colab.research.google.com/assets/colab-badge.svg\" alt=\"Open In Colab\"/></a>"
      ]
    },
    {
      "cell_type": "markdown",
      "source": [
        "# **CAP.02 - VARIÁVEIS E TIPOS DE DADOS SIMPLES**"
      ],
      "metadata": {
        "id": "bkGBEf1ryHN9"
      }
    },
    {
      "cell_type": "markdown",
      "source": [
        "**Variáveis**: \n",
        "\n",
        "\n",
        "Toda variável armazena um valor, que é a informação associada a essa variável.\n",
        "\n",
        "Espaços não são permitidos em nomes de variáveis, mas underscores\n",
        "podem ser usados para separar palavras em nomes de variáveis. Por\n",
        "exemplo, greeting_message funciona, mas greeting message causará\n",
        "erros.\n",
        "\n",
        "**Nomeando e usando variáveis:**\n",
        "\n",
        "• Evite usar palavras reservadas e nomes de funções em Python como\n",
        "nomes de variáveis, ou seja, não use palavras que Python reservou para\n",
        "um propósito particular de programação, por exemplo, a palavra print.\n",
        "(Veja a seção “Palavras reservadas e funções embutidas de Python”.)\n",
        "\n",
        "\n",
        "• Nomes de variáveis devem ser concisos, porém descritivos. Por\n",
        "exemplo, name é melhor que n, student_name é melhor que s_n e\n",
        "name_length é melhor que length_of_persons_name.\n",
        "\n",
        "\n",
        "• Tome cuidado ao usar a letra minúscula l e a letra maiúscula O, pois\n",
        "elas podem ser confundidas com os números 1 e 0."
      ],
      "metadata": {
        "id": "S1BQ9ibrJBup"
      }
    },
    {
      "cell_type": "code",
      "execution_count": null,
      "metadata": {
        "id": "pZVerjLryAoa"
      },
      "outputs": [],
      "source": [
        "message = 'hello python'\n",
        "print(message)\n",
        "\n",
        "message = 'hello python teste da porra do livro'\n",
        "print(message)\n",
        "\n"
      ]
    },
    {
      "cell_type": "markdown",
      "source": [
        "**STRINGS:**\n",
        "\n",
        "Uma sring é simplesmente uma série de caracteres. Tudo que estiver entre aspas é considerada uma string em python.\n",
        "\n",
        "Essa flexibilidade permite usar aspas e apóstrofos em suas strings:\n",
        "'I told my friend, \"Python is my favorite language!\"'\n",
        "\"The language 'Python' is named after Monty Python, not the snake.\"\n",
        "\n",
        "\n",
        "O método title() aparece depois da variável\n",
        "na instrução print(). Um método é uma ação que Python pode executar em\n",
        "um dado. O ponto (.) após name em name.title() informa a Python que o\n",
        "método title() deve atuar na variável name."
      ],
      "metadata": {
        "id": "Vb7rsNLqM1lz"
      }
    },
    {
      "cell_type": "code",
      "source": [
        "#Mudando para letras maiúsculas e minúsculas em uma string usando métodos\n",
        "\n",
        "name = 'ada lovelace'\n",
        "print(name.title())\n",
        "\n",
        "name = 'ada lovelace'\n",
        "print(name.upper())\n",
        "print(name.lower())"
      ],
      "metadata": {
        "colab": {
          "base_uri": "https://localhost:8080/"
        },
        "id": "IrXcKLbiNmZw",
        "outputId": "439b2ffa-af33-4d33-c527-f176bf0f96ea"
      },
      "execution_count": null,
      "outputs": [
        {
          "output_type": "stream",
          "name": "stdout",
          "text": [
            "Ada Lovelace\n",
            "ADA LOVELACE\n",
            "ada lovelace\n"
          ]
        }
      ]
    },
    {
      "cell_type": "code",
      "source": [
        "#Combinando ou concatenando strings\n",
        "first_name = \"ada\"\n",
        "last_name = \"lovelace\"\n",
        "full_name = first_name + \" \" + last_name\n",
        "\n",
        "print(full_name)"
      ],
      "metadata": {
        "colab": {
          "base_uri": "https://localhost:8080/"
        },
        "id": "Jo11-0LsOuFC",
        "outputId": "44d901a5-073c-4883-d452-802d080c3682"
      },
      "execution_count": null,
      "outputs": [
        {
          "output_type": "stream",
          "name": "stdout",
          "text": [
            "ada lovelace\n"
          ]
        }
      ]
    },
    {
      "cell_type": "code",
      "source": [
        "#Acrescentando espaços em branco em strings com tabulações ou quebras de linha\n",
        "\n",
        "print('languages:\\nPython\\nC\\nJava')"
      ],
      "metadata": {
        "colab": {
          "base_uri": "https://localhost:8080/"
        },
        "id": "foTODAzEPddz",
        "outputId": "dfe862c8-8aac-4e37-f341-259abdc407d0"
      },
      "execution_count": null,
      "outputs": [
        {
          "output_type": "stream",
          "name": "stdout",
          "text": [
            "languages:\n",
            "Python\n",
            "C\n",
            "Java\n"
          ]
        }
      ]
    },
    {
      "cell_type": "code",
      "source": [
        "#Removendo espaços em branco.\n",
        "favorite_language = 'python '\n",
        "favorite_language\n",
        "\n",
        "favorite_language.rstrip()"
      ],
      "metadata": {
        "colab": {
          "base_uri": "https://localhost:8080/",
          "height": 35
        },
        "id": "2upJgzCtP8ia",
        "outputId": "aca705e5-1bd5-4e15-b331-004c7b090178"
      },
      "execution_count": null,
      "outputs": [
        {
          "output_type": "execute_result",
          "data": {
            "text/plain": [
              "'python'"
            ],
            "application/vnd.google.colaboratory.intrinsic+json": {
              "type": "string"
            }
          },
          "metadata": {},
          "execution_count": 12
        }
      ]
    },
    {
      "cell_type": "code",
      "source": [
        "#Evitando erros de sintaxe com strings\n",
        "\n",
        "message = \"One of Python's strengths is its diverse community.\"\n",
        "print(message)\n",
        "\n",
        "message = 'One of Python's strengths is its diverse community.'\n",
        "print(message)"
      ],
      "metadata": {
        "id": "cLY3CpBEQ_DG"
      },
      "execution_count": null,
      "outputs": []
    },
    {
      "cell_type": "code",
      "source": [
        "#Evitando erros de tipo com a função str()\n",
        "\n",
        "age = 23\n",
        "message = \"Happy\" + str(age) + 'rd Birthday'\n",
        "\n",
        "print(message)\n"
      ],
      "metadata": {
        "colab": {
          "base_uri": "https://localhost:8080/"
        },
        "id": "lFhdOb9NR8yX",
        "outputId": "81c93b52-f0a1-448a-8d34-f0fc5b38591c"
      },
      "execution_count": null,
      "outputs": [
        {
          "output_type": "stream",
          "name": "stdout",
          "text": [
            "Happy23rd Birthday\n"
          ]
        }
      ]
    },
    {
      "cell_type": "markdown",
      "source": [
        "# **CAP.03 - Introdução as Listas.**\n"
      ],
      "metadata": {
        "id": "i1jFxt7Yq2GG"
      }
    },
    {
      "cell_type": "code",
      "source": [
        "bicycles = ['trek', 'cannondale', 'redline', 'specialized']\n",
        "print(bicycles)"
      ],
      "metadata": {
        "colab": {
          "base_uri": "https://localhost:8080/"
        },
        "id": "U4gg3wcFq-64",
        "outputId": "aa3ce675-2e21-482b-f9eb-2f8aa1d03725"
      },
      "execution_count": null,
      "outputs": [
        {
          "output_type": "stream",
          "name": "stdout",
          "text": [
            "['trek', 'cannondale', 'redline', 'specialized']\n"
          ]
        }
      ]
    },
    {
      "cell_type": "code",
      "source": [
        "#Acessando elementos de uma lista\n",
        "bicycles = ['trek', 'cannondale', 'redline', 'specialized']\n",
        "print(bicycles[0])\n",
        "\n",
        "bicycles = ['trek', 'cannondale', 'redline', 'specialized']\n",
        "print(bicycles[0].title())"
      ],
      "metadata": {
        "colab": {
          "base_uri": "https://localhost:8080/"
        },
        "id": "oFEBJy2JrUYv",
        "outputId": "398979a2-79be-4cad-b5f9-064affba9b6d"
      },
      "execution_count": null,
      "outputs": [
        {
          "output_type": "stream",
          "name": "stdout",
          "text": [
            "trek\n",
            "Trek\n"
          ]
        }
      ]
    },
    {
      "cell_type": "code",
      "source": [
        "#Usando valores individauis de uma lista\n",
        "bicycles = ['trek', 'cannondale', 'redline', 'specialized']\n",
        "message = \"My first bicycle was a \" + bicycles[0].title() + \".\"\n",
        "print(message)"
      ],
      "metadata": {
        "colab": {
          "base_uri": "https://localhost:8080/"
        },
        "id": "Ulqit9sOtmSY",
        "outputId": "e6d68aa5-0b01-4ee5-8434-08bd3f42ec30"
      },
      "execution_count": null,
      "outputs": [
        {
          "output_type": "stream",
          "name": "stdout",
          "text": [
            "My first bicycle was a Trek.\n"
          ]
        }
      ]
    },
    {
      "cell_type": "code",
      "source": [
        "#Alterando, acrescentando e removendo elementos\n",
        "motorcycles = ['honda', 'yamaha', 'suzuki']\n",
        "print(motorcycles)\n",
        "motorcycles[0] = 'ducati'\n",
        "print(motorcycles)\n",
        "\n",
        "#Acrescentando\n",
        "motorcycles = ['honda', 'yamaha', 'suzuki']\n",
        "motorcycles.append('ducati')\n",
        "print(motorcycles)\n",
        "\n",
        "#Inserindo elementos em uma lista\n",
        "motorcycles = ['honda', 'yamaha', 'suzuki']\n",
        "motorcycles.insert(0, 'ducati')\n",
        "print(motorcycles)\n",
        "\n",
        "#Removendo elementos de uma lista\n",
        "motorcycles = ['honda', 'yamaha', 'suzuki']\n",
        "del motorcycles [0]\n",
        "print(motorcycles)"
      ],
      "metadata": {
        "colab": {
          "base_uri": "https://localhost:8080/"
        },
        "id": "aMt9pDLwtxCF",
        "outputId": "2e2d22af-b95b-465a-8842-b7ee458d6995"
      },
      "execution_count": null,
      "outputs": [
        {
          "output_type": "stream",
          "name": "stdout",
          "text": [
            "['honda', 'yamaha', 'suzuki']\n",
            "['ducati', 'yamaha', 'suzuki']\n",
            "['honda', 'yamaha', 'suzuki', 'ducati']\n",
            "['ducati', 'honda', 'yamaha', 'suzuki']\n",
            "['yamaha', 'suzuki']\n"
          ]
        }
      ]
    },
    {
      "cell_type": "code",
      "source": [
        "#Removendo elementos de uma lista\n",
        "motorcycles = ['honda', 'yamaha', 'suzuki']\n",
        "del motorcycles [0]\n",
        "print(motorcycles)"
      ],
      "metadata": {
        "colab": {
          "base_uri": "https://localhost:8080/"
        },
        "id": "vrzps3aeCPTp",
        "outputId": "03e7232c-22fa-4114-9acd-a34051383a14"
      },
      "execution_count": null,
      "outputs": [
        {
          "output_type": "stream",
          "name": "stdout",
          "text": [
            "['yamaha', 'suzuki']\n"
          ]
        }
      ]
    },
    {
      "cell_type": "code",
      "source": [
        "#Removendo itens de qualquer posição em uma lista\n",
        "motorcycles = ['honda', 'yamaha', 'suzuki']\n",
        "first_owned = motorcycles.pop(0)\n",
        "print('The first motorcycle I owned was a ' + first_owned.title() +'.')"
      ],
      "metadata": {
        "colab": {
          "base_uri": "https://localhost:8080/"
        },
        "id": "v09wg3B8CSQH",
        "outputId": "a051b6b8-2629-479f-a7c7-c605a409735f"
      },
      "execution_count": null,
      "outputs": [
        {
          "output_type": "stream",
          "name": "stdout",
          "text": [
            "The first motorcycle I owned was a Honda.\n"
          ]
        }
      ]
    },
    {
      "cell_type": "code",
      "source": [
        "#Removendo um item de acordo com o valor\n",
        "motorcycles = ['honda', 'yamaha', 'suzuki', 'ducati','ducati']\n",
        "print(motorcycles)\n",
        "\n",
        "motorcycles.remove('ducati')\n",
        "print(motorcycles)\n",
        "\n",
        "#NOTA O método remove() apaga apenas a primeira ocorrência do valor que você especificar. "
      ],
      "metadata": {
        "colab": {
          "base_uri": "https://localhost:8080/"
        },
        "id": "KuI6MvtACSaP",
        "outputId": "80f01b52-794a-4a1d-879e-98497eb582ea"
      },
      "execution_count": null,
      "outputs": [
        {
          "output_type": "stream",
          "name": "stdout",
          "text": [
            "['honda', 'yamaha', 'suzuki', 'ducati', 'ducati']\n",
            "['honda', 'yamaha', 'suzuki', 'ducati']\n"
          ]
        }
      ]
    },
    {
      "cell_type": "code",
      "source": [
        "#Organizando uma lista\n",
        "cars = ['mitsubishi','nissan','toyota','honda','subaru']\n",
        "cars.sort()\n",
        "print(cars)\n",
        "\n",
        "#Também podemos ordernas essa lista inversamente.\n",
        "cars = ['mitsubishi','nissan','toyota','honda','subaru']\n",
        "cars.sort(reverse=True)\n",
        "print(cars)"
      ],
      "metadata": {
        "id": "NE8iAB16CSi-",
        "colab": {
          "base_uri": "https://localhost:8080/"
        },
        "outputId": "b08fe277-b3c9-4c46-b3b5-330108d1e22c"
      },
      "execution_count": null,
      "outputs": [
        {
          "output_type": "stream",
          "name": "stdout",
          "text": [
            "['honda', 'mitsubishi', 'nissan', 'subaru', 'toyota']\n",
            "['toyota', 'subaru', 'nissan', 'mitsubishi', 'honda']\n"
          ]
        }
      ]
    },
    {
      "cell_type": "markdown",
      "source": [
        "A função sorted() permite exibir sua lista em uma ordem em particular, mas não afeta a ordem\n",
        "propriamente dita da lista"
      ],
      "metadata": {
        "id": "u_ypXLhfeig-"
      }
    },
    {
      "cell_type": "code",
      "source": [
        "#Ordenando uma lista temporariamente com a função sorted()\n",
        "cars = ['mitsubishi','nissan','toyota','honda','subaru']\n",
        "print(\"\\nHere is the sorted list:\")\n",
        "print(sorted(cars))"
      ],
      "metadata": {
        "colab": {
          "base_uri": "https://localhost:8080/"
        },
        "id": "fLrOMkOVeaVX",
        "outputId": "e6cdbbf6-03af-424f-b76d-486cd9439365"
      },
      "execution_count": null,
      "outputs": [
        {
          "output_type": "stream",
          "name": "stdout",
          "text": [
            "\n",
            "Here is the sorted list:\n",
            "['honda', 'mitsubishi', 'nissan', 'subaru', 'toyota']\n"
          ]
        }
      ]
    },
    {
      "cell_type": "markdown",
      "source": [
        "reverse() não reorganiza em ordem alfabética inversa; ele\n",
        "simplesmente inverte a ordem da lista:\n"
      ],
      "metadata": {
        "id": "MgL6gYYlfMNk"
      }
    },
    {
      "cell_type": "code",
      "source": [
        "#Exibindo uma lista em ordem inversa\n",
        "cars = ['mitsubishi','nissan','toyota','honda','subaru']\n",
        "cars.reverse\n",
        "print(cars)"
      ],
      "metadata": {
        "colab": {
          "base_uri": "https://localhost:8080/"
        },
        "id": "dMS3TgwLe7-f",
        "outputId": "832301ce-8106-4fec-9973-7e25bbeb6a60"
      },
      "execution_count": null,
      "outputs": [
        {
          "output_type": "stream",
          "name": "stdout",
          "text": [
            "['mitsubishi', 'nissan', 'toyota', 'honda', 'subaru']\n"
          ]
        }
      ]
    },
    {
      "cell_type": "code",
      "source": [
        "#Descobrindo o tamanho de uma lista\n",
        "cars = ['mitsubishi','nissan','toyota','honda','subaru']\n",
        "len(cars)"
      ],
      "metadata": {
        "colab": {
          "base_uri": "https://localhost:8080/"
        },
        "id": "n-gFmDPufbYX",
        "outputId": "d14c15ce-b3ca-4d67-ff7f-df6d0a26aceb"
      },
      "execution_count": null,
      "outputs": [
        {
          "output_type": "execute_result",
          "data": {
            "text/plain": [
              "5"
            ]
          },
          "metadata": {},
          "execution_count": 6
        }
      ]
    },
    {
      "cell_type": "code",
      "source": [
        "#Evitando erros de índice quando trabalhar com listas. Lembrar que a indexação do python começa com 0.\n",
        "motorcycles = ['honda', 'yamaha', 'suzuki']\n",
        "print(motorcycles[2])\n",
        "#sempre que quiser acessar o último item de uma lista, você deve usar o índice -1\n",
        "motorcycles = ['honda', 'yamaha', 'suzuki']\n",
        "print(motorcycles[-1])"
      ],
      "metadata": {
        "colab": {
          "base_uri": "https://localhost:8080/"
        },
        "id": "G_StfNHxg0Gt",
        "outputId": "7b2a2e42-fddd-4863-d8d3-099ef2e14378"
      },
      "execution_count": null,
      "outputs": [
        {
          "output_type": "stream",
          "name": "stdout",
          "text": [
            "suzuki\n",
            "suzuki\n"
          ]
        }
      ]
    },
    {
      "cell_type": "markdown",
      "source": [
        "# **CAP.04 - Trabalhando com Listas.**"
      ],
      "metadata": {
        "id": "if917QyZitNj"
      }
    },
    {
      "cell_type": "markdown",
      "source": [
        "Ler esse código como “para todo mágico na lista de mágicos, exiba o nome do mágico” pode ajudar."
      ],
      "metadata": {
        "id": "PfrBQVzQj5c4"
      }
    },
    {
      "cell_type": "code",
      "source": [
        "magicians = ['alice', 'david', 'carolina']\n",
        "for magician in magicians:#Essa linha diz a Python para extrair um nome da lista magicians e armazená-lo na variável magician.\n",
        "      print(magician)"
      ],
      "metadata": {
        "colab": {
          "base_uri": "https://localhost:8080/"
        },
        "id": "WoQp1mzgiy4X",
        "outputId": "9aa57304-8871-4499-c37c-3cdb5735cc01"
      },
      "execution_count": null,
      "outputs": [
        {
          "output_type": "stream",
          "name": "stdout",
          "text": [
            "alice\n",
            "david\n",
            "carolina\n"
          ]
        }
      ]
    },
    {
      "cell_type": "markdown",
      "source": [
        "***for magician in magicians:***\n",
        "\n",
        "Essa linha diz a Python para extrair o primeiro valor da lista magicians e armazená-lo na variável magician. O primeiro valor é 'alice'. O\n",
        "interpretador então lê a próxima linha:"
      ],
      "metadata": {
        "id": "LPGY1H-kkJFX"
      }
    },
    {
      "cell_type": "code",
      "source": [
        "#Executando mais tarefas em um laço for\n",
        "magicians = ['alice', 'david', 'carolina']\n",
        "for magician in magicians:\n",
        "    print(magician.title()+ \", that was a great trick!\")\n",
        "    print(\"I can't wait to see your next trick, \" + magician.title() +\n",
        "\".\\n\")"
      ],
      "metadata": {
        "colab": {
          "base_uri": "https://localhost:8080/"
        },
        "id": "QdiQIJSskQXB",
        "outputId": "320af040-f5de-47a9-d391-e4ae3b8a9697"
      },
      "execution_count": null,
      "outputs": [
        {
          "output_type": "stream",
          "name": "stdout",
          "text": [
            "Alice, that was a great trick!\n",
            "I can't wait to see your next trick, Alice.\n",
            "\n",
            "David, that was a great trick!\n",
            "I can't wait to see your next trick, David.\n",
            "\n",
            "Carolina, that was a great trick!\n",
            "I can't wait to see your next trick, Carolina.\n",
            "\n"
          ]
        }
      ]
    },
    {
      "cell_type": "code",
      "source": [
        "#Fazendo algo aós um laço for\n",
        "magicians = ['alice', 'david', 'carolina']\n",
        "for magician in magicians:\n",
        "    print(magician.title()+ \", that was a great trick!\")\n",
        "    print(\"I can't wait to see your next trick, \" + magician.title() +\n",
        "\".\\n\")\n",
        "print(\"Thank you\")"
      ],
      "metadata": {
        "id": "hQyPwiBM17sf",
        "colab": {
          "base_uri": "https://localhost:8080/"
        },
        "outputId": "1311182f-a32b-4d58-dbf8-147a11721771"
      },
      "execution_count": null,
      "outputs": [
        {
          "output_type": "stream",
          "name": "stdout",
          "text": [
            "Alice, that was a great trick!\n",
            "I can't wait to see your next trick, Alice.\n",
            "\n",
            "David, that was a great trick!\n",
            "I can't wait to see your next trick, David.\n",
            "\n",
            "Carolina, that was a great trick!\n",
            "I can't wait to see your next trick, Carolina.\n",
            "\n",
            "Thank you\n"
          ]
        }
      ]
    },
    {
      "cell_type": "code",
      "source": [
        "#Esquecendo-se de indentar\n",
        "magicians = ['alice', 'david', 'carolina']\n",
        "for magician in magicians:\n",
        "print(magician )"
      ],
      "metadata": {
        "colab": {
          "base_uri": "https://localhost:8080/",
          "height": 130
        },
        "id": "zrb3wNgK8Hgx",
        "outputId": "489352b6-bba5-444a-c163-889cef7aa08d"
      },
      "execution_count": null,
      "outputs": [
        {
          "output_type": "error",
          "ename": "IndentationError",
          "evalue": "ignored",
          "traceback": [
            "\u001b[0;36m  File \u001b[0;32m\"<ipython-input-26-9791d0908809>\"\u001b[0;36m, line \u001b[0;32m4\u001b[0m\n\u001b[0;31m    print(magician)\u001b[0m\n\u001b[0m        ^\u001b[0m\n\u001b[0;31mIndentationError\u001b[0m\u001b[0;31m:\u001b[0m expected an indented block\n"
          ]
        }
      ]
    },
    {
      "cell_type": "code",
      "source": [
        "pizza = ['mussarela', 'aliche', 'alema']\n",
        "for pizzas in pizza:\n",
        "  print(pizzas)"
      ],
      "metadata": {
        "id": "EN4-LEY28IAA",
        "colab": {
          "base_uri": "https://localhost:8080/"
        },
        "outputId": "c2a220ef-4198-4b49-e2fc-c1d1a8342d72"
      },
      "execution_count": null,
      "outputs": [
        {
          "output_type": "stream",
          "name": "stdout",
          "text": [
            "mussarela\n",
            "aliche\n",
            "alema\n"
          ]
        }
      ]
    },
    {
      "cell_type": "code",
      "source": [
        "#Função Range\n",
        "for value in range(1,5):\n",
        "  print(value)\n",
        "\n"
      ],
      "metadata": {
        "colab": {
          "base_uri": "https://localhost:8080/"
        },
        "id": "HvZNG3FGSUqI",
        "outputId": "d4e11137-b5a3-4158-916c-7f0172f26f19"
      },
      "execution_count": null,
      "outputs": [
        {
          "output_type": "stream",
          "name": "stdout",
          "text": [
            "1\n",
            "2\n",
            "3\n",
            "4\n",
            "[1, 2, 3, 4, 5]\n"
          ]
        }
      ]
    },
    {
      "cell_type": "code",
      "source": [
        "#Usando range para criar uma lista de números\n",
        "numbers = list(range(1,6))\n",
        "print(numbers)"
      ],
      "metadata": {
        "colab": {
          "base_uri": "https://localhost:8080/"
        },
        "id": "YK1oXWuWS8mw",
        "outputId": "076a9124-eb68-45de-ed60-51c326f82530"
      },
      "execution_count": null,
      "outputs": [
        {
          "output_type": "stream",
          "name": "stdout",
          "text": [
            "[1, 2, 3, 4, 5]\n"
          ]
        }
      ]
    },
    {
      "cell_type": "code",
      "source": [
        "squares = []\n",
        "for value in range(1,11):\n",
        "  square = value ** 2\n",
        "  squares.append(square)\n",
        "print(squares)"
      ],
      "metadata": {
        "colab": {
          "base_uri": "https://localhost:8080/"
        },
        "id": "cggndZmNS9ve",
        "outputId": "1d0b3c34-b5f5-48c5-d0e0-3834380706b3"
      },
      "execution_count": null,
      "outputs": [
        {
          "output_type": "stream",
          "name": "stdout",
          "text": [
            "[1, 4, 9, 16, 25, 36, 49, 64, 81, 100]\n"
          ]
        }
      ]
    },
    {
      "cell_type": "code",
      "source": [
        "#Fatiando uma lista\n",
        "players = ['charles', 'martina', 'michael', 'florence', 'eli']\n",
        "print(players[0:3])"
      ],
      "metadata": {
        "colab": {
          "base_uri": "https://localhost:8080/"
        },
        "id": "1BsJau0-S-N-",
        "outputId": "95e11048-ea0e-4fa4-eb54-4c9d514a1e90"
      },
      "execution_count": null,
      "outputs": [
        {
          "output_type": "stream",
          "name": "stdout",
          "text": [
            "['charles', 'martina', 'michael']\n"
          ]
        }
      ]
    },
    {
      "cell_type": "code",
      "source": [
        "#Fatiando uma lista\n",
        "players = ['charles', 'martina', 'michael', 'florence', 'eli']\n",
        "print(players[1:4])"
      ],
      "metadata": {
        "colab": {
          "base_uri": "https://localhost:8080/"
        },
        "id": "jU8rUPt7UHQZ",
        "outputId": "d6636918-5572-4458-ba38-6126ecc42f9e"
      },
      "execution_count": null,
      "outputs": [
        {
          "output_type": "stream",
          "name": "stdout",
          "text": [
            "['martina', 'michael', 'florence']\n"
          ]
        }
      ]
    },
    {
      "cell_type": "code",
      "source": [
        "#Fatiando uma lista\n",
        "players = ['charles', 'martina', 'michael', 'florence', 'eli']\n",
        "print(players[:4])"
      ],
      "metadata": {
        "colab": {
          "base_uri": "https://localhost:8080/"
        },
        "id": "XfceTc--UM2e",
        "outputId": "a6d4db03-b5c6-4ecb-8727-8436db48235a"
      },
      "execution_count": null,
      "outputs": [
        {
          "output_type": "stream",
          "name": "stdout",
          "text": [
            "['charles', 'martina', 'michael', 'florence']\n"
          ]
        }
      ]
    },
    {
      "cell_type": "code",
      "source": [
        "#percorrendo uma fatia com um laço\n",
        "players = ['charles', 'martina', 'michael', 'florence', 'eli']\n",
        "print(\"Here are the first three players on my team:\")\n",
        "for player in players:\n",
        "  print(player)"
      ],
      "metadata": {
        "colab": {
          "base_uri": "https://localhost:8080/"
        },
        "id": "ziDVOZl0VWpu",
        "outputId": "79c50d84-cc9f-40ab-bf19-1c6392c3dab2"
      },
      "execution_count": null,
      "outputs": [
        {
          "output_type": "stream",
          "name": "stdout",
          "text": [
            "Here are the first three players on my team:\n",
            "charles\n",
            "martina\n",
            "michael\n",
            "florence\n",
            "eli\n"
          ]
        }
      ]
    },
    {
      "cell_type": "code",
      "source": [
        "#TUPLAS\n",
        "\n",
        "dimensions = (200,50)\n",
        "print(dimensions[0])"
      ],
      "metadata": {
        "colab": {
          "base_uri": "https://localhost:8080/"
        },
        "id": "OyelVeqaV3Iz",
        "outputId": "94454f1f-76b8-4f1e-96d3-5a8e3473e3b2"
      },
      "execution_count": null,
      "outputs": [
        {
          "output_type": "stream",
          "name": "stdout",
          "text": [
            "200\n"
          ]
        }
      ]
    },
    {
      "cell_type": "markdown",
      "source": [
        "Uma tupla se parece extamente com uma lista, exceto por usar parenteses no lugar de colchetes.\n"
      ],
      "metadata": {
        "id": "cRuJB3OZWDsc"
      }
    },
    {
      "cell_type": "code",
      "source": [
        "#Tentando alterar uns dos inteis da tupla\n",
        "dimensions[0] = 250"
      ],
      "metadata": {
        "colab": {
          "base_uri": "https://localhost:8080/",
          "height": 183
        },
        "id": "o-JAVOUKWJdm",
        "outputId": "a54f5eb2-7a7d-4aec-9869-fcaef64a8e4a"
      },
      "execution_count": null,
      "outputs": [
        {
          "output_type": "error",
          "ename": "TypeError",
          "evalue": "ignored",
          "traceback": [
            "\u001b[0;31m---------------------------------------------------------------------------\u001b[0m",
            "\u001b[0;31mTypeError\u001b[0m                                 Traceback (most recent call last)",
            "\u001b[0;32m<ipython-input-14-d0d4dd1cbde3>\u001b[0m in \u001b[0;36m<module>\u001b[0;34m\u001b[0m\n\u001b[1;32m      1\u001b[0m \u001b[0;31m#Tentando alterar uns dos inteis da tupla\u001b[0m\u001b[0;34m\u001b[0m\u001b[0;34m\u001b[0m\u001b[0;34m\u001b[0m\u001b[0m\n\u001b[0;32m----> 2\u001b[0;31m \u001b[0mdimensions\u001b[0m\u001b[0;34m[\u001b[0m\u001b[0;36m0\u001b[0m\u001b[0;34m]\u001b[0m \u001b[0;34m=\u001b[0m \u001b[0;36m250\u001b[0m\u001b[0;34m\u001b[0m\u001b[0;34m\u001b[0m\u001b[0m\n\u001b[0m",
            "\u001b[0;31mTypeError\u001b[0m: 'tuple' object does not support item assignment"
          ]
        }
      ]
    },
    {
      "cell_type": "code",
      "source": [
        "#Percorrendo todos os valores de uma tupla com um laço\n",
        "\n",
        "dimensions = (200,50)\n",
        "for dimension in dimensions:\n",
        "  print(dimension)"
      ],
      "metadata": {
        "colab": {
          "base_uri": "https://localhost:8080/"
        },
        "id": "oCLWLrV0WUiu",
        "outputId": "fda02e17-2bd4-421b-bb85-b20f2e6a1e2c"
      },
      "execution_count": null,
      "outputs": [
        {
          "output_type": "stream",
          "name": "stdout",
          "text": [
            "200\n",
            "50\n"
          ]
        }
      ]
    },
    {
      "cell_type": "markdown",
      "source": [
        "# **CAP.05 - INSTRUÇÕES IF**"
      ],
      "metadata": {
        "id": "_9Pl252FXksU"
      }
    },
    {
      "cell_type": "markdown",
      "source": [
        "O laço nesse exemplo inicialmente verifica se o valor atual de car é\n",
        "'bmw' u. Em caso afirmativo, o valor é exibido com letras maiúsculas. Se o\n",
        "valor de car for diferente de 'bmw', será exibido com a primeira letra\n",
        "maiúscula:"
      ],
      "metadata": {
        "id": "NKlg-80nYVWB"
      }
    },
    {
      "cell_type": "code",
      "source": [
        "cars = ['audi', 'bmw', 'subaru', 'toyota']\n",
        "for car in cars:\n",
        "  if car == 'bmw':\n",
        "      print(car.upper())\n",
        "  else:\n",
        "      print(car.title())"
      ],
      "metadata": {
        "colab": {
          "base_uri": "https://localhost:8080/"
        },
        "id": "N3OlrD61Xr4e",
        "outputId": "38fa25d8-feac-4db4-ca56-794179dd1221"
      },
      "execution_count": null,
      "outputs": [
        {
          "output_type": "stream",
          "name": "stdout",
          "text": [
            "Audi\n",
            "BMW\n",
            "Subaru\n",
            "Toyota\n"
          ]
        }
      ]
    },
    {
      "cell_type": "code",
      "source": [
        "#Verificando a igualdade:\n",
        "car = 'bmw'\n",
        "car == 'bmw'"
      ],
      "metadata": {
        "colab": {
          "base_uri": "https://localhost:8080/"
        },
        "id": "c_L80qTBarh9",
        "outputId": "1670810d-7372-415e-eb0c-77604de900bb"
      },
      "execution_count": null,
      "outputs": [
        {
          "output_type": "execute_result",
          "data": {
            "text/plain": [
              "True"
            ]
          },
          "metadata": {},
          "execution_count": 17
        }
      ]
    },
    {
      "cell_type": "code",
      "source": [
        "#Diferença entre letras maiusculas e minusculas\n",
        "car = 'Audi'\n",
        "car.lower() == 'audi'"
      ],
      "metadata": {
        "colab": {
          "base_uri": "https://localhost:8080/"
        },
        "id": "60Uov4VCarvX",
        "outputId": "7f8bc12a-3d38-48f3-d055-0d324108a585"
      },
      "execution_count": null,
      "outputs": [
        {
          "output_type": "execute_result",
          "data": {
            "text/plain": [
              "True"
            ]
          },
          "metadata": {},
          "execution_count": 18
        }
      ]
    },
    {
      "cell_type": "code",
      "source": [
        "#Verificando a diferença\n",
        "requested_topping = 'mushrooms'\n",
        "if requested_topping != 'anchovies':\n",
        "  print(\"Hold the anchovies!\")"
      ],
      "metadata": {
        "colab": {
          "base_uri": "https://localhost:8080/"
        },
        "id": "IjnRt3PXar0o",
        "outputId": "df6aff38-5222-4456-e799-2b3321e44b66"
      },
      "execution_count": null,
      "outputs": [
        {
          "output_type": "stream",
          "name": "stdout",
          "text": [
            "Hold the anchovies!\n"
          ]
        }
      ]
    },
    {
      "cell_type": "code",
      "source": [
        "#Usando and para testar várias condições\n",
        "age_0 = 22\n",
        "age_1 = 18\n",
        "age_0 >= 21 and age_1 >=21 "
      ],
      "metadata": {
        "id": "P_3ARxA2ar6K",
        "colab": {
          "base_uri": "https://localhost:8080/"
        },
        "outputId": "4f891bdb-a4c8-4f94-d463-892de41ac8e9"
      },
      "execution_count": 1,
      "outputs": [
        {
          "output_type": "execute_result",
          "data": {
            "text/plain": [
              "False"
            ]
          },
          "metadata": {},
          "execution_count": 1
        }
      ]
    },
    {
      "cell_type": "code",
      "source": [
        "age_0 = 22\n",
        "age_1 = 18\n",
        "age_0 >= 21 or age_1 >=21 "
      ],
      "metadata": {
        "colab": {
          "base_uri": "https://localhost:8080/"
        },
        "id": "cMhtLS3rasHl",
        "outputId": "a7471814-3230-41f3-ef2e-38b9c1b2d5c4"
      },
      "execution_count": 2,
      "outputs": [
        {
          "output_type": "execute_result",
          "data": {
            "text/plain": [
              "True"
            ]
          },
          "metadata": {},
          "execution_count": 2
        }
      ]
    },
    {
      "cell_type": "code",
      "source": [
        "#Verificando se um valor está em uma lista\n",
        "requested_toppings = ['mushrooms', 'onions', 'pineapple']\n",
        "'mushrooms' in requested_toppings\n"
      ],
      "metadata": {
        "colab": {
          "base_uri": "https://localhost:8080/"
        },
        "id": "iv3AiztAasLu",
        "outputId": "0fd115f7-121d-4fa0-bd0e-acdefc13066e"
      },
      "execution_count": null,
      "outputs": [
        {
          "output_type": "execute_result",
          "data": {
            "text/plain": [
              "False"
            ]
          },
          "metadata": {},
          "execution_count": 24
        }
      ]
    },
    {
      "cell_type": "code",
      "source": [
        "#Verificando se um valor não está em uma lista\n",
        "banned_users = ['andrew', 'carolina', 'david']\n",
        "user = 'marie'\n",
        "if user not in banned_users:\n",
        "  print(user.title() +\", You can post a response\")"
      ],
      "metadata": {
        "colab": {
          "base_uri": "https://localhost:8080/"
        },
        "id": "Gr33hribasOy",
        "outputId": "71d4400f-2fd0-49fa-88e9-8747c43cfc80"
      },
      "execution_count": null,
      "outputs": [
        {
          "output_type": "stream",
          "name": "stdout",
          "text": [
            "Marie, You can post a response\n"
          ]
        }
      ]
    },
    {
      "cell_type": "code",
      "source": [
        "#Instruções IF\n",
        "age = 19\n",
        "if age >=18:\n",
        "  print('Você pode votar')"
      ],
      "metadata": {
        "colab": {
          "base_uri": "https://localhost:8080/"
        },
        "id": "xY38W3oxuIvb",
        "outputId": "18849825-9b76-46b1-f909-e9e158bced7c"
      },
      "execution_count": 3,
      "outputs": [
        {
          "output_type": "stream",
          "name": "stdout",
          "text": [
            "Você pode votar\n"
          ]
        }
      ]
    },
    {
      "cell_type": "code",
      "source": [
        "#Instruções If-else\n",
        "age = 19\n",
        "if age >=18:\n",
        "  print('Você pode votar')\n",
        "else:\n",
        "  print( 'Você ainda não pode votar')\n"
      ],
      "metadata": {
        "colab": {
          "base_uri": "https://localhost:8080/"
        },
        "id": "121AD4auvOBN",
        "outputId": "77e4e460-b89a-4264-d3c8-97db0d72312a"
      },
      "execution_count": 4,
      "outputs": [
        {
          "output_type": "stream",
          "name": "stdout",
          "text": [
            "Você ainda não pode votar\n"
          ]
        }
      ]
    },
    {
      "cell_type": "markdown",
      "source": [
        "Muitas situações do mundo real envolvem mais de duas condições possíveis. Por exemplo, considere um parque de diversões que cobre preços distintos para grupos etários diferentes:\n",
        "\n",
        "• a entrada para qualquer pessoa com menos de 4 anos é gratuita;\n",
        "\n",
        "• a entrada para qualquer pessoa com idade entre 4 e 18 anos custa 5dólares;\n",
        "\n",
        "• a entrada para qualquer pessoa com 18 anos ou mais custa 10 dólares."
      ],
      "metadata": {
        "id": "x-Oq-RmTv-wZ"
      }
    },
    {
      "cell_type": "code",
      "source": [
        "#Sintaxe if-elif-else\n",
        "age = 65\n",
        "if age < 4:\n",
        "  print('Você não pagara nada')\n",
        "elif age < 18:\n",
        "  print('Sua entrada custa 5 bonoros')\n",
        "else:\n",
        "  print('Sua entrada custa 10 bonoros')"
      ],
      "metadata": {
        "colab": {
          "base_uri": "https://localhost:8080/"
        },
        "id": "aIFRCp-5v82x",
        "outputId": "ec48e5cf-3ae2-4447-e410-d47343459596"
      },
      "execution_count": 6,
      "outputs": [
        {
          "output_type": "stream",
          "name": "stdout",
          "text": [
            "Sua entrada custa 10 bonoros\n"
          ]
        }
      ]
    },
    {
      "cell_type": "code",
      "source": [
        "age = 12\n",
        "\n",
        "if age < 4:\n",
        "    price = 0\n",
        "elif age < 18:\n",
        "    price = 5\n",
        "else:\n",
        "    price = 10\n",
        "\n",
        "print(\"Your admission cost is $\"  + str(price) + \".\")"
      ],
      "metadata": {
        "colab": {
          "base_uri": "https://localhost:8080/"
        },
        "id": "726-bz2zwx08",
        "outputId": "9ebfbfa2-8426-4406-821f-f8bd14f047c7"
      },
      "execution_count": 9,
      "outputs": [
        {
          "output_type": "stream",
          "name": "stdout",
          "text": [
            "Your admission cost is $5.\n"
          ]
        }
      ]
    },
    {
      "cell_type": "code",
      "source": [
        "requested_toppings = ['mushrooms', 'extra cheese']\n",
        "if 'mushrooms' in requested_toppings:\n",
        "  print(\"Adding mushrooms.\")\n",
        "if 'pepperoni' in requested_toppings:\n",
        "  print(\"Adding pepperoni.\")\n",
        "if 'extra cheese' in requested_toppings:\n",
        "  print(\"Adding extra cheese.\")\n",
        "\n",
        "\n",
        "print(\"\\nFinished making your pizza!\")"
      ],
      "metadata": {
        "colab": {
          "base_uri": "https://localhost:8080/"
        },
        "id": "FswyUHWCyzGk",
        "outputId": "7935cfeb-99f1-4a0e-80fd-4b2070c91720"
      },
      "execution_count": 10,
      "outputs": [
        {
          "output_type": "stream",
          "name": "stdout",
          "text": [
            "Adding mushrooms.\n",
            "Adding extra cheese.\n",
            "\n",
            "Finished making your pizza!\n"
          ]
        }
      ]
    },
    {
      "cell_type": "code",
      "source": [
        "alien_color = ('green', 'yellow', 'red')\n",
        "\n",
        "if 'green' in alien_color:\n",
        "  print('Você ganhou 5 pontos')"
      ],
      "metadata": {
        "colab": {
          "base_uri": "https://localhost:8080/"
        },
        "id": "8tXMZsCx0DHi",
        "outputId": "b66e776c-37a6-4ab0-ad4d-3e8a00c46923"
      },
      "execution_count": 14,
      "outputs": [
        {
          "output_type": "stream",
          "name": "stdout",
          "text": [
            "Você ganhou 5 pontos\n"
          ]
        }
      ]
    },
    {
      "cell_type": "code",
      "source": [
        "requested_toppings = ['mushrooms', 'green peppers', 'extra cheese']\n",
        "for requested_topping in requested_toppings:\n",
        "  if requested_topping == 'green peppers':\n",
        "   print(\"Sorry, we are out of green peppers right now.\")\n",
        "else:\n",
        "  print(\"Adding \" + requested_topping + \".\")\n",
        "print(\"\\nFinished making your pizza!\")"
      ],
      "metadata": {
        "colab": {
          "base_uri": "https://localhost:8080/"
        },
        "id": "5on7G25F2_pJ",
        "outputId": "385b99eb-b722-4140-cb22-0e9c8bffca77"
      },
      "execution_count": 18,
      "outputs": [
        {
          "output_type": "stream",
          "name": "stdout",
          "text": [
            "Sorry, we are out of green peppers right now.\n",
            "Adding extra cheese.\n",
            "\n",
            "Finished making your pizza!\n"
          ]
        }
      ]
    }
  ]
}